{
 "cells": [
  {
   "cell_type": "code",
   "execution_count": 55,
   "metadata": {},
   "outputs": [],
   "source": [
    "#create a csv file with headers\n",
    "import csv\n",
    "\n",
    "field_names = ['title', 'income', 'expense', 'date']\n",
    "\n",
    "with open(\"journal entries.csv\", 'w') as csvfile:\n",
    "    writer = csv.DictWriter(csvfile, fieldnames = field_names)\n",
    "    writer.writeheader()\n",
    "    \n",
    "    \n",
    "    \n",
    "    \n",
    "    \n",
    "    \n",
    "    \n",
    "    \n",
    "    \n",
    "    \n"
   ]
  },
  {
   "cell_type": "code",
   "execution_count": 61,
   "metadata": {},
   "outputs": [
    {
     "name": "stdout",
     "output_type": "stream",
     "text": [
      "Error: please choose E or I\n"
     ]
    }
   ],
   "source": [
    "#getting inputs from the user\n",
    "title = input('Enter the description of your journal entry')\n",
    "if input('enter E if your entry is expense and I if your entry is income') == \"E\":\n",
    "    expense = float(input('put amount here'))\n",
    "elif input('enter E if your entry is expense and I if your entry is income') == \"I\":\n",
    "    income = float(input('put amount here'))\n",
    "elif  'E' == False:\n",
    "      expense = 0 \n",
    "elif 'I'== False:\n",
    "    income = 0\n",
    "else:\n",
    "    print(\"Error: please choose E or I\")\n",
    "    \n",
    "date = input('Enter the date of entry in MM-DD-YYYY format')\n",
    "\n",
    "#store inputs in a dictionary\n",
    "journal_entry = {}\n",
    "journal_entry['title'] = title\n",
    "journal_entry['income'] = income\n",
    "journal_entry['expense'] = expense\n",
    "#amount must be a number otherwise the app will break\n",
    "journal_entry['date'] = date\n",
    "\n",
    "#create a list of  entries\n",
    "journals = []\n",
    "journals.append(journal_entry)\n",
    "\n",
    "import csv\n",
    "with open('journal entries.csv', 'a', newline='') as csvfile:\n",
    "    writer = csv.DictWriter(csvfile, fieldnames=field_names)\n",
    "    writer.writerows(journals)\n",
    "\n",
    "\n",
    "\n",
    "\n",
    "\n",
    "\n",
    "\n",
    "\n",
    "\n"
   ]
  },
  {
   "cell_type": "code",
   "execution_count": 52,
   "metadata": {},
   "outputs": [
    {
     "name": "stdout",
     "output_type": "stream",
     "text": [
      "0\n",
      "0\n",
      "0\n"
     ]
    }
   ],
   "source": [
    "#calculate net_balance\n",
    "import csv\n",
    "\n",
    "total_income = 0\n",
    "total_expense = 0\n",
    "\n",
    "with open ('journal entries.csv','r') as data_file:\n",
    "    data = csv.reader(data_file)\n",
    "    \n",
    "\n",
    "net_balance = total_income - total_expense\n",
    "    \n",
    "\n",
    "print(total_income)\n",
    "print(total_expense)\n",
    "print(net_balance)"
   ]
  },
  {
   "cell_type": "code",
   "execution_count": 49,
   "metadata": {},
   "outputs": [],
   "source": [
    "#convert data stored as csv to txt which is a readable format\n",
    "\n",
    "import csv\n",
    "\n",
    "csv_file = \"journal entries.csv\"\n",
    "txt_file = \"journal entries.txt\"\n",
    "with open(txt_file, \"w\") as my_output_file:\n",
    "    with open(csv_file, \"r\") as my_input_file:\n",
    "        [ my_output_file.write(\" \".join(row)+'\\n') for row in csv.reader(my_input_file)]\n",
    "    my_output_file.close()\n",
    "       "
   ]
  }
 ],
 "metadata": {
  "language_info": {
   "name": "python"
  },
  "orig_nbformat": 4
 },
 "nbformat": 4,
 "nbformat_minor": 2
}
