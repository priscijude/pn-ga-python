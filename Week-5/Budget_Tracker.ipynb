{
 "cells": [
  {
   "cell_type": "code",
   "execution_count": 2,
   "metadata": {},
   "outputs": [
    {
     "data": {
      "text/plain": [
       "[]"
      ]
     },
     "execution_count": 2,
     "metadata": {},
     "output_type": "execute_result"
    }
   ],
   "source": [
    "[] #Description: Budget_Tracker\n",
    "#income - expenses = margin\n",
    " "
   ]
  },
  {
   "cell_type": "code",
   "execution_count": 3,
   "metadata": {},
   "outputs": [
    {
     "ename": "SyntaxError",
     "evalue": "incomplete input (3802885542.py, line 34)",
     "output_type": "error",
     "traceback": [
      "\u001b[1;36m  Input \u001b[1;32mIn [3]\u001b[1;36m\u001b[0m\n\u001b[1;33m    \u001b[0m\n\u001b[1;37m    ^\u001b[0m\n\u001b[1;31mSyntaxError\u001b[0m\u001b[1;31m:\u001b[0m incomplete input\n"
     ]
    }
   ],
   "source": [
    "\n",
    "option = int(input(\"Pls choose option -1:\"))\n",
    "if option == -1:\n",
    "  print(\"Welcome to Budget Tracker\")\n",
    "  print(\"Please choose from the following options: \\n1. Add new entry to Budget_Tracker\\n2. Display Total Account Balance\\n3. View all Previous Entries\")\n",
    "else: \n",
    "        print(\"choose 0 to exit\")\n",
    "\n",
    "\n",
    "option = int(input(\"Pls choose option 1 - 3:\"))\n",
    "\n",
    "if option == 1:\n",
    "        print(\"Add New_entry to Budget_Tracker\")\n",
    "        \n",
    "elif option == 2:\n",
    "        print(f\"Display Total Account balance\")\n",
    "\n",
    "elif option == 3:\n",
    "        print(\"View all Previous Entries\")\n",
    "else:\n",
    "        print(\"invalid entry, pls choose numbers 1-3\")\n",
    "\n",
    "class New_Entry:\n",
    "        def __init__ (self):\n",
    "                self.Description = []\n",
    "                self.Budget_type = []\n",
    "                self.Amount = []\n",
    "                self.Date = []\n",
    "        def input_Description():\n",
    "                Description = (input(\"Pls describe item:\"))\n",
    "        def input_Budget_type():\n",
    "                Budget_type = (input(\"write if income or expense:\"))\n",
    "        def input_Amount():\n",
    "                Amount = float(input(\"Write price here:\"))\n",
    "        def input_date():\n",
    "                Date = str(input(\"MM/DD/YYYY:\"))\n",
    "\n",
    "class total_account_balance:\n",
    "        def __init__ (self):\n",
    "                self.totalincome = []\n",
    "                self.totalexpenses = []\n",
    "                self.balance = []\n",
    "        def input_totalincome():\n",
    "                totalincome = float(input(\"write income here:\"))\n",
    "        def input_totalexpenses(): \n",
    "                totalexpenses =float(input(\"Pls choose option 1 - 3:\"))\n",
    "        tota\n",
    "\n",
    "\n",
    "        \n",
    "\n",
    "\n",
    "\n",
    "\n",
    "\n",
    "\n",
    "\n",
    "         \n",
    "    \n",
    "\n",
    "\n"
   ]
  },
  {
   "cell_type": "code",
   "execution_count": null,
   "metadata": {},
   "outputs": [],
   "source": []
  }
 ],
 "metadata": {
  "kernelspec": {
   "display_name": "Python 3.10.5 64-bit (windows store)",
   "language": "python",
   "name": "python3"
  },
  "language_info": {
   "codemirror_mode": {
    "name": "ipython",
    "version": 3
   },
   "file_extension": ".py",
   "mimetype": "text/x-python",
   "name": "python",
   "nbconvert_exporter": "python",
   "pygments_lexer": "ipython3",
   "version": "3.10.5"
  },
  "orig_nbformat": 4,
  "vscode": {
   "interpreter": {
    "hash": "7540359889c7e321c229492797f8275cf90e605fa95f66d3b025b1e90ad7f863"
   }
  }
 },
 "nbformat": 4,
 "nbformat_minor": 2
}
