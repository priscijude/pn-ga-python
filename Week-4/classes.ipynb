{
 "cells": [
  {
   "cell_type": "code",
   "execution_count": null,
   "metadata": {},
   "outputs": [],
   "source": [
    "1. Encapsulation, data and actions\n",
    "class Person:\n",
    "    def _init_(self):\n",
    "        #used to initialize data\n",
    "        print('class has been initialized')\n",
    "        #instatiate Person class\n",
    "        p = Person()\n",
    "        #p is an object that belongs to the person class\n",
    "        #or -p is an instance of the Person Class1\n"
   ]
  },
  {
   "cell_type": "code",
   "execution_count": null,
   "metadata": {},
   "outputs": [],
   "source": [
    "#create rectangle class\n",
    "#length and width instance variables\n",
    "#area and permeter methods\n",
    "class Rectangle:\n",
    "    def _init_(self, length, width):\n",
    "        self.lenght = length\n",
    "        self.width = width\n",
    "    def area(self):\n",
    "        return self.lenght*self.width\n",
    "    #define the perimeter method\n",
    "    \n",
    "    r = Rectangle(10, 5)\n"
   ]
  },
  {
   "cell_type": "code",
   "execution_count": 1,
   "metadata": {},
   "outputs": [
    {
     "ename": "TypeError",
     "evalue": "Song() takes no arguments",
     "output_type": "error",
     "traceback": [
      "\u001b[1;31m---------------------------------------------------------------------------\u001b[0m",
      "\u001b[1;31mTypeError\u001b[0m                                 Traceback (most recent call last)",
      "\u001b[1;32mc:\\Users\\juden\\PYTH-3\\Week-4\\classes.ipynb Cell 3'\u001b[0m in \u001b[0;36m<cell line: 20>\u001b[1;34m()\u001b[0m\n\u001b[0;32m     <a href='vscode-notebook-cell:/c%3A/Users/juden/PYTH-3/Week-4/classes.ipynb#ch0000002?line=15'>16</a>\u001b[0m     \u001b[39mdef\u001b[39;00m \u001b[39m_str_\u001b[39m(\u001b[39mself\u001b[39m):\n\u001b[0;32m     <a href='vscode-notebook-cell:/c%3A/Users/juden/PYTH-3/Week-4/classes.ipynb#ch0000002?line=16'>17</a>\u001b[0m         \u001b[39m#should retun a string\u001b[39;00m\n\u001b[0;32m     <a href='vscode-notebook-cell:/c%3A/Users/juden/PYTH-3/Week-4/classes.ipynb#ch0000002?line=17'>18</a>\u001b[0m         \u001b[39mreturn\u001b[39;00m \u001b[39mf\u001b[39m\u001b[39m\"\u001b[39m\u001b[39m{\u001b[39;00m\u001b[39mself\u001b[39m\u001b[39m.\u001b[39mtitle\u001b[39m}\u001b[39;00m\u001b[39m\\t\u001b[39;00m\u001b[39m{\u001b[39;00m\u001b[39mself\u001b[39m\u001b[39m.\u001b[39mgenre\u001b[39m}\u001b[39;00m\u001b[39m\\t\u001b[39;00m\u001b[39m{\u001b[39;00m\u001b[39m'\u001b[39m\u001b[39m'\u001b[39m\u001b[39m.\u001b[39mjoin(\u001b[39mself\u001b[39m\u001b[39m.\u001b[39martiste)\u001b[39m}\u001b[39;00m\u001b[39m\\t\u001b[39;00m\u001b[39m{\u001b[39;00m\u001b[39mself\u001b[39m\u001b[39m.\u001b[39myear_of_release\u001b[39m}\u001b[39;00m\u001b[39m\"\u001b[39m\n\u001b[1;32m---> <a href='vscode-notebook-cell:/c%3A/Users/juden/PYTH-3/Week-4/classes.ipynb#ch0000002?line=19'>20</a>\u001b[0m s \u001b[39m=\u001b[39m Song(\u001b[39m\"\u001b[39;49m\u001b[39mlose Yourself\u001b[39;49m\u001b[39m\"\u001b[39;49m, \u001b[39m\"\u001b[39;49m\u001b[39mRap/Hip Hop\u001b[39;49m\u001b[39m\"\u001b[39;49m)\n\u001b[0;32m     <a href='vscode-notebook-cell:/c%3A/Users/juden/PYTH-3/Week-4/classes.ipynb#ch0000002?line=20'>21</a>\u001b[0m s\u001b[39m.\u001b[39mset_artist(\u001b[39m\"\u001b[39m\u001b[39mEminem\u001b[39m\u001b[39m\"\u001b[39m)\n\u001b[0;32m     <a href='vscode-notebook-cell:/c%3A/Users/juden/PYTH-3/Week-4/classes.ipynb#ch0000002?line=21'>22</a>\u001b[0m s\u001b[39m.\u001b[39mset_release_year(\u001b[39m'\u001b[39m\u001b[39m2002\u001b[39m\u001b[39m'\u001b[39m)\n",
      "\u001b[1;31mTypeError\u001b[0m: Song() takes no arguments"
     ]
    }
   ],
   "source": [
    "#create a Song Class\n",
    "#title, genre, artise, year_of_release instance variables\n",
    "class Song:\n",
    "    def _init_(self, title, genre):\n",
    "        self.title = title\n",
    "        self.genre = genre\n",
    "        self.artist = []\n",
    "        self.year_of_release = ''\n",
    "        self.rating = 0.0\n",
    "    def set_artist(self,artist):\n",
    "        self.artist.append(artist)\n",
    "    \n",
    "    def set_release_year(self, year):\n",
    "        self.year_of_release = year\n",
    "\n",
    "    def _str_(self):\n",
    "        #should retun a string\n",
    "        return f\"{self.title}\\t{self.genre}\\t{''.join(self.artiste)}\\t{self.year_of_release}\"\n",
    "\n",
    "s = Song(\"lose Yourself\", \"Rap/Hip Hop\")\n",
    "s.set_artist(\"Eminem\")\n",
    "s.set_release_year('2002')\n",
    "print(s)"
   ]
  },
  {
   "cell_type": "code",
   "execution_count": 2,
   "metadata": {},
   "outputs": [
    {
     "ename": "TypeError",
     "evalue": "Playlist() takes no arguments",
     "output_type": "error",
     "traceback": [
      "\u001b[1;31m---------------------------------------------------------------------------\u001b[0m",
      "\u001b[1;31mTypeError\u001b[0m                                 Traceback (most recent call last)",
      "\u001b[1;32mc:\\Users\\juden\\PYTH-3\\Week-4\\classes.ipynb Cell 4'\u001b[0m in \u001b[0;36m<cell line: 14>\u001b[1;34m()\u001b[0m\n\u001b[0;32m      <a href='vscode-notebook-cell:/c%3A/Users/juden/PYTH-3/Week-4/classes.ipynb#ch0000003?line=8'>9</a>\u001b[0m     \u001b[39mdef\u001b[39;00m \u001b[39m_repr_\u001b[39m(\u001b[39mself\u001b[39m):\n\u001b[0;32m     <a href='vscode-notebook-cell:/c%3A/Users/juden/PYTH-3/Week-4/classes.ipynb#ch0000003?line=9'>10</a>\u001b[0m         \u001b[39m#display my \u001b[39;00m\n\u001b[0;32m     <a href='vscode-notebook-cell:/c%3A/Users/juden/PYTH-3/Week-4/classes.ipynb#ch0000003?line=10'>11</a>\u001b[0m                 \u001b[39mreturn\u001b[39;00m \u001b[39mf\u001b[39m\u001b[39m\"\u001b[39m\u001b[39m{\u001b[39;00m\u001b[39mself\u001b[39m\u001b[39m.\u001b[39mtitle\u001b[39m}\u001b[39;00m\u001b[39m\\t\u001b[39;00m\u001b[39m{\u001b[39;00m\u001b[39mself\u001b[39m\u001b[39m.\u001b[39mgenre\u001b[39m}\u001b[39;00m\u001b[39m\\t\u001b[39;00m\u001b[39m{\u001b[39;00m\u001b[39m'\u001b[39m\u001b[39m'\u001b[39m\u001b[39m.\u001b[39mjoin(\u001b[39mself\u001b[39m\u001b[39m.\u001b[39martiste)\u001b[39m}\u001b[39;00m\u001b[39m\\t\u001b[39;00m\u001b[39m{\u001b[39;00m\u001b[39mself\u001b[39m\u001b[39m.\u001b[39myear_of_release\u001b[39m}\u001b[39;00m\u001b[39m\"\u001b[39m\n\u001b[1;32m---> <a href='vscode-notebook-cell:/c%3A/Users/juden/PYTH-3/Week-4/classes.ipynb#ch0000003?line=13'>14</a>\u001b[0m favourite_songs \u001b[39m=\u001b[39m Playlist(\u001b[39m\"\u001b[39;49m\u001b[39mMy Faves\u001b[39;49m\u001b[39m\"\u001b[39;49m)\n\u001b[0;32m     <a href='vscode-notebook-cell:/c%3A/Users/juden/PYTH-3/Week-4/classes.ipynb#ch0000003?line=15'>16</a>\u001b[0m favourite_songs\u001b[39m.\u001b[39madd_song(s)\n\u001b[0;32m     <a href='vscode-notebook-cell:/c%3A/Users/juden/PYTH-3/Week-4/classes.ipynb#ch0000003?line=16'>17</a>\u001b[0m favourite_songs\u001b[39m.\u001b[39madd_song(\u001b[39m\"\u001b[39m\u001b[39mAnything\u001b[39m\u001b[39m\"\u001b[39m)\n",
      "\u001b[1;31mTypeError\u001b[0m: Playlist() takes no arguments"
     ]
    }
   ],
   "source": [
    "class Playlist:\n",
    "    def _init_ (self, title):\n",
    "        self.title = title\n",
    "        self.songs = []\n",
    "    \n",
    "    def add_song(self, song):\n",
    "        self.songs.append(song)\n",
    "    \n",
    "    def _repr_(self):\n",
    "        #display my \n",
    "                return f\"{self.title}\\t{self.genre}\\t{''.join(self.artiste)}\\t{self.year_of_release}\"\n",
    "\n",
    "\n",
    "favourite_songs = Playlist(\"My Faves\")\n",
    "\n",
    "favourite_songs.add_song(s)\n",
    "favourite_songs.add_song(\"Anything\")\n",
    "\n",
    "print(favourite_songs.songs)\n"
   ]
  },
  {
   "cell_type": "code",
   "execution_count": null,
   "metadata": {},
   "outputs": [],
   "source": []
  }
 ],
 "metadata": {
  "kernelspec": {
   "display_name": "Python 3.10.5 64-bit (windows store)",
   "language": "python",
   "name": "python3"
  },
  "language_info": {
   "codemirror_mode": {
    "name": "ipython",
    "version": 3
   },
   "file_extension": ".py",
   "mimetype": "text/x-python",
   "name": "python",
   "nbconvert_exporter": "python",
   "pygments_lexer": "ipython3",
   "version": "3.10.5"
  },
  "orig_nbformat": 4,
  "vscode": {
   "interpreter": {
    "hash": "7540359889c7e321c229492797f8275cf90e605fa95f66d3b025b1e90ad7f863"
   }
  }
 },
 "nbformat": 4,
 "nbformat_minor": 2
}
