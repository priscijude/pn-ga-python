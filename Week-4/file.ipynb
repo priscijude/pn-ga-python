{
 "cells": [
  {
   "cell_type": "code",
   "execution_count": 4,
   "metadata": {},
   "outputs": [
    {
     "name": "stdout",
     "output_type": "stream",
     "text": [
      "1. this is the first line in the file\n",
      "2. this is the second line on the file\n",
      "\n"
     ]
    }
   ],
   "source": [
    "#read from a file\n",
    "my_file = open('line.txt')\n",
    "data = my_file.read()\n",
    "print(data)\n",
    "my_file.close()"
   ]
  },
  {
   "cell_type": "code",
   "execution_count": 5,
   "metadata": {},
   "outputs": [
    {
     "name": "stdout",
     "output_type": "stream",
     "text": [
      "1. this is the first line in the file\n",
      "\n"
     ]
    },
    {
     "data": {
      "text/plain": [
       "<function TextIOWrapper.close()>"
      ]
     },
     "execution_count": 5,
     "metadata": {},
     "output_type": "execute_result"
    }
   ],
   "source": [
    "my_file = open('line.txt')\n",
    "line = my_file.readline()\n",
    "print(line)\n",
    "my_file.close()"
   ]
  },
  {
   "cell_type": "code",
   "execution_count": 13,
   "metadata": {},
   "outputs": [
    {
     "name": "stdout",
     "output_type": "stream",
     "text": [
      "['1. this is the first line in the file\\n', '2. this is the second line on the file\\n']\n"
     ]
    }
   ],
   "source": [
    "#use with if we dont want to bother about closing the file each time\n",
    "with open('line.txt') as my_file:\n",
    "    lines = my_file.readlines()\n",
    "print(lines)"
   ]
  },
  {
   "cell_type": "code",
   "execution_count": 16,
   "metadata": {},
   "outputs": [],
   "source": [
    "#writing to a file\n",
    "with open('line.txt', 'w') as line_file:\n",
    "    line_file.write('3. tHIS IS THE THIRD LINE(OR SHOULD BE)\\n')\n",
    "\n",
    "#\n"
   ]
  }
 ],
 "metadata": {
  "kernelspec": {
   "display_name": "Python 3.10.5 64-bit (windows store)",
   "language": "python",
   "name": "python3"
  },
  "language_info": {
   "codemirror_mode": {
    "name": "ipython",
    "version": 3
   },
   "file_extension": ".py",
   "mimetype": "text/x-python",
   "name": "python",
   "nbconvert_exporter": "python",
   "pygments_lexer": "ipython3",
   "version": "3.10.5"
  },
  "orig_nbformat": 4,
  "vscode": {
   "interpreter": {
    "hash": "7540359889c7e321c229492797f8275cf90e605fa95f66d3b025b1e90ad7f863"
   }
  }
 },
 "nbformat": 4,
 "nbformat_minor": 2
}
