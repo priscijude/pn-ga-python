{
 "cells": [
  {
   "cell_type": "code",
   "execution_count": 4,
   "metadata": {},
   "outputs": [
    {
     "ename": "AttributeError",
     "evalue": "'DictWriter' object has no attribute 'writerheader'",
     "output_type": "error",
     "traceback": [
      "\u001b[1;31m---------------------------------------------------------------------------\u001b[0m",
      "\u001b[1;31mAttributeError\u001b[0m                            Traceback (most recent call last)",
      "\u001b[1;32mc:\\Users\\juden\\PYTH-3\\Week-4\\classwork.ipynb Cell 1'\u001b[0m in \u001b[0;36m<cell line: 7>\u001b[1;34m()\u001b[0m\n\u001b[0;32m      <a href='vscode-notebook-cell:/c%3A/Users/juden/PYTH-3/Week-4/classwork.ipynb#ch0000000?line=6'>7</a>\u001b[0m \u001b[39mwith\u001b[39;00m \u001b[39mopen\u001b[39m (\u001b[39m'\u001b[39m\u001b[39mpeople.csv\u001b[39m\u001b[39m'\u001b[39m, \u001b[39m'\u001b[39m\u001b[39mw\u001b[39m\u001b[39m'\u001b[39m, newline\u001b[39m=\u001b[39m\u001b[39m'\u001b[39m\u001b[39m'\u001b[39m) \u001b[39mas\u001b[39;00m data_file:\n\u001b[0;32m      <a href='vscode-notebook-cell:/c%3A/Users/juden/PYTH-3/Week-4/classwork.ipynb#ch0000000?line=7'>8</a>\u001b[0m     writer \u001b[39m=\u001b[39m csv\u001b[39m.\u001b[39mDictWriter(data_file, fieldnames\u001b[39m=\u001b[39mfields)\n\u001b[1;32m----> <a href='vscode-notebook-cell:/c%3A/Users/juden/PYTH-3/Week-4/classwork.ipynb#ch0000000?line=8'>9</a>\u001b[0m     writer\u001b[39m.\u001b[39;49mwriterheader()\n\u001b[0;32m     <a href='vscode-notebook-cell:/c%3A/Users/juden/PYTH-3/Week-4/classwork.ipynb#ch0000000?line=9'>10</a>\u001b[0m     \u001b[39mfor\u001b[39;00m person \u001b[39min\u001b[39;00m people:\n\u001b[0;32m     <a href='vscode-notebook-cell:/c%3A/Users/juden/PYTH-3/Week-4/classwork.ipynb#ch0000000?line=10'>11</a>\u001b[0m         writer\u001b[39m.\u001b[39mwriterrow(person)\n",
      "\u001b[1;31mAttributeError\u001b[0m: 'DictWriter' object has no attribute 'writerheader'"
     ]
    }
   ],
   "source": [
    "#people.csv\n",
    "#writing to csv\n",
    "import csv\n",
    "\n",
    "people = [{'name': 'john', 'age': 30, 'sex': 'M', 'address': 'Toronto'}]\n",
    "fields = ['name', 'age', 'sex', 'address']\n",
    "with open ('people.csv', 'w', newline='') as data_file:\n",
    "    writer = csv.DictWriter(data_file, fieldnames=fields)\n",
    "    writer.writerheader()\n",
    "    for person in people:\n",
    "        writer.writerrow(person)\n",
    "\n",
    "\n"
   ]
  }
 ],
 "metadata": {
  "kernelspec": {
   "display_name": "Python 3.10.5 64-bit (windows store)",
   "language": "python",
   "name": "python3"
  },
  "language_info": {
   "codemirror_mode": {
    "name": "ipython",
    "version": 3
   },
   "file_extension": ".py",
   "mimetype": "text/x-python",
   "name": "python",
   "nbconvert_exporter": "python",
   "pygments_lexer": "ipython3",
   "version": "3.10.5"
  },
  "orig_nbformat": 4,
  "vscode": {
   "interpreter": {
    "hash": "7540359889c7e321c229492797f8275cf90e605fa95f66d3b025b1e90ad7f863"
   }
  }
 },
 "nbformat": 4,
 "nbformat_minor": 2
}
