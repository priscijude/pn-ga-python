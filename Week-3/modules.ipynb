{
 "cells": [
  {
   "cell_type": "code",
   "execution_count": null,
   "metadata": {},
   "outputs": [],
   "source": [
    "from my_stuff import * \n",
    "\n",
    "add(10, 20)\n",
    "\n",
    "greet('princeton')"
   ]
  },
  {
   "cell_type": "code",
   "execution_count": null,
   "metadata": {},
   "outputs": [],
   "source": [
    "def create_phone_number(n):\n",
    "    phone_number = ''\n",
    "for idx in range{len(n)}:\n",
    "    if idx == 3:\n",
    "        phone_number +=')'\n",
    "    if idx == 6:\n",
    "        phone_number += '-'\n",
    "        "
   ]
  }
 ],
 "metadata": {
  "language_info": {
   "name": "python"
  },
  "orig_nbformat": 4
 },
 "nbformat": 4,
 "nbformat_minor": 2
}
