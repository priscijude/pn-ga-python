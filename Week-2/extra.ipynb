{
 "cells": [
  {
   "cell_type": "code",
   "execution_count": 2,
   "metadata": {},
   "outputs": [
    {
     "name": "stdout",
     "output_type": "stream",
     "text": [
      "['date', 'restaurant', 'price', 'tip']\n",
      "['05/05/2022', 'R sushi', '40.52', 'N']\n",
      "['07/05/2022', \"Nicey's\", '35.78', 'Y']\n",
      "['11/05/2022', 'R sushi', '40.52', 'N']\n",
      "['13/05/2022', \"Nicey's\", '35.78', 'Y']\n",
      "['15/05/2022', 'R sushi', '40.52', 'N']\n",
      "['21/05/2022', \"Nicey's\", '35.78', 'Y']\n",
      "['23/05/2022', 'R sushi', '40.52', 'N']\n",
      "['25/05/2022', \"Nicey's\", '35.78', 'Y']\n",
      "['28/05/2022', 'R sushi', '40.52', 'N']\n",
      "['30/05/2022', \"Nicey's\", '35.78', 'Y']\n"
     ]
    }
   ],
   "source": [
    "import csv\n",
    "\n",
    "with open('uber_eats.csv') as data_file:\n",
    "    data = csv.reader(data_file)\n",
    "    for row in data:\n",
    "        print(row)\n",
    "        #find total amount spent on uber eats\n",
    "    \n"
   ]
  }
 ],
 "metadata": {
  "kernelspec": {
   "display_name": "Python 3.10.5 64-bit (windows store)",
   "language": "python",
   "name": "python3"
  },
  "language_info": {
   "codemirror_mode": {
    "name": "ipython",
    "version": 3
   },
   "file_extension": ".py",
   "mimetype": "text/x-python",
   "name": "python",
   "nbconvert_exporter": "python",
   "pygments_lexer": "ipython3",
   "version": "3.10.5"
  },
  "orig_nbformat": 4,
  "vscode": {
   "interpreter": {
    "hash": "7540359889c7e321c229492797f8275cf90e605fa95f66d3b025b1e90ad7f863"
   }
  }
 },
 "nbformat": 4,
 "nbformat_minor": 2
}
