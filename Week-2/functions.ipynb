{
 "cells": [
  {
   "cell_type": "code",
   "execution_count": 8,
   "metadata": {},
   "outputs": [
    {
     "data": {
      "text/plain": [
       "30"
      ]
     },
     "execution_count": 8,
     "metadata": {},
     "output_type": "execute_result"
    }
   ],
   "source": [
    "def add_two(num1, num2):\n",
    "    return num1 + num2\n",
    "add_two(10, 20)"
   ]
  },
  {
   "cell_type": "code",
   "execution_count": null,
   "metadata": {},
   "outputs": [],
   "source": [
    "#if we have positional, variable args and keyword args..\n",
    "#positional args MUST go first\n",
    "#variable args nexxt\n",
    "#keyword args last\n",
    "\n",
    "def baz(name, *args, **kwargs):\n",
    "    print(name)\n",
    "    \n",
    "    hobbies = ''\n",
    "    for item in args:\n",
    "        hobbies += item + ', '\n",
    "    \n",
    "    print('your hobbies are: ', hobbies)\n",
    "\n",
    "    for key in kwargs:\n",
    "        print(f'{key} = {kwargs[key]}')\n",
    "\n",
    "#baz('Princeton', 'Chess', 'Writing', 'Surfing')\n",
    "\n",
    "baz('John', 'Skiing', city='Toronto', age=30)"
   ]
  },
  {
   "cell_type": "code",
   "execution_count": null,
   "metadata": {},
   "outputs": [],
   "source": [
    "#if we have positional, variable args and keyword args..\n",
    "#positional args MUST go first\n",
    "#variable args nexxt\n",
    "#keyword args last\n",
    "\n",
    "def baz(name, *args, **kwargs):\n",
    "    print(name)\n",
    "    \n",
    "    hobbies = ''\n",
    "    for item in args:\n",
    "        hobbies += item + ', '\n",
    "    \n",
    "    print('your hobbies are: ', hobbies)\n",
    "\n",
    "    for key in kwargs:\n",
    "        print(f'{key} = {kwargs[key]}')\n",
    "\n",
    "#baz('Princeton', 'Chess', 'Writing', 'Surfing')\n",
    "\n",
    "baz('John', 'Skiing', city='Toronto', age=30)"
   ]
  },
  {
   "cell_type": "code",
   "execution_count": 10,
   "metadata": {},
   "outputs": [
    {
     "data": {
      "text/plain": [
       "118"
      ]
     },
     "execution_count": 10,
     "metadata": {},
     "output_type": "execute_result"
    }
   ],
   "source": [
    "def sum_list(a_list):\n",
    "    total = 0\n",
    "    for num in a_list:\n",
    "        total += num\n",
    "    return total\n",
    "\n",
    "numbers = [-1, 5, 8, 7, 23, 45, -11, 15, 27]\n",
    "\n",
    "sum_list(numbers)"
   ]
  },
  {
   "cell_type": "code",
   "execution_count": 12,
   "metadata": {},
   "outputs": [
    {
     "name": "stdout",
     "output_type": "stream",
     "text": [
      "False\n",
      "False\n",
      "True\n"
     ]
    }
   ],
   "source": [
    "#write a function that has two parameters: a string and a character\n",
    "#the function must return True if the character is in the string, False otherwise\n",
    "\n",
    "def find_character(string, char):\n",
    "    if char in string:\n",
    "        return True\n",
    "    return False\n",
    "print(find_character('Panama', 'c'))\n",
    "print(find_character('Panama', 'p'))\n",
    "print(find_character('Panama', 'P'))\n",
    "\n"
   ]
  },
  {
   "cell_type": "code",
   "execution_count": null,
   "metadata": {},
   "outputs": [],
   "source": [
    "#write a function that takes a list of numbers and returns a new list\n",
    "#with only negative numbers, if there are no negative numbers \n",
    "#in the input list, we should return an empty list\n",
    "\n",
    "def list_num():\n",
    "    if list_num < 0:\n",
    "        return list_num "
   ]
  },
  {
   "cell_type": "code",
   "execution_count": null,
   "metadata": {},
   "outputs": [],
   "source": [
    "#positional vs keyword arguments\n",
    "# a and b are positional arguments\n",
    "def func(a, b):\n",
    "    print(f'a = {b} = {b}')"
   ]
  },
  {
   "cell_type": "code",
   "execution_count": 14,
   "metadata": {},
   "outputs": [],
   "source": [
    "#def add(a, b):\n",
    "#    return a+b\n"
   ]
  },
  {
   "cell_type": "code",
   "execution_count": null,
   "metadata": {},
   "outputs": [],
   "source": [
    "nums = [-10, 5, 0, 1, 11, 4 13, 25, 57, 2]\n",
    "\n",
    "#print(sorted(nums, reverse=True))\n",
    "movies  = ['pirates of the carribean', 'Captain America: Civil War']\n",
    "\n",
    "#p"
   ]
  }
 ],
 "metadata": {
  "kernelspec": {
   "display_name": "Python 3.10.5 64-bit (windows store)",
   "language": "python",
   "name": "python3"
  },
  "language_info": {
   "codemirror_mode": {
    "name": "ipython",
    "version": 3
   },
   "file_extension": ".py",
   "mimetype": "text/x-python",
   "name": "python",
   "nbconvert_exporter": "python",
   "pygments_lexer": "ipython3",
   "version": "3.10.5"
  },
  "orig_nbformat": 4,
  "vscode": {
   "interpreter": {
    "hash": "7540359889c7e321c229492797f8275cf90e605fa95f66d3b025b1e90ad7f863"
   }
  }
 },
 "nbformat": 4,
 "nbformat_minor": 2
}
