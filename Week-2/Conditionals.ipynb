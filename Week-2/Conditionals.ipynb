{
 "cells": [
  {
   "cell_type": "code",
   "execution_count": null,
   "metadata": {},
   "outputs": [],
   "source": [
    "#Truthy vs falsey\n",
    "\n",
    "#some values are inherently true and some false\n",
    "#value 0 is Falsey\n",
    "#any integer is Truthy\n",
    "#empty string is falsey\n",
    "#none is falsey\n",
    "\n"
   ]
  },
  {
   "cell_type": "code",
   "execution_count": null,
   "metadata": {},
   "outputs": [],
   "source": [
    "#for conditionals, we use comparison operators\n",
    "#>\n",
    "#<\n",
    "#>=greater than or equal to\n",
    "#== equality\n",
    "#=\n",
    "#!= not equal to"
   ]
  },
  {
   "cell_type": "code",
   "execution_count": 4,
   "metadata": {},
   "outputs": [
    {
     "name": "stdout",
     "output_type": "stream",
     "text": [
      "eligible to vote\n"
     ]
    }
   ],
   "source": [
    "age = 19\n",
    "#print 'eligible to vote if age is greater than or equal to 18\n",
    "if age >=18:\n",
    "    print('eligible to vote')\n",
    "#print too far if distance between city_one and city_two is greater than 1city_one = 45\n",
    "city_two = 56\n",
    "\n",
    "if city_one - city_one > 10:\n",
    "    print('too far')\n"
   ]
  },
  {
   "cell_type": "code",
   "execution_count": null,
   "metadata": {},
   "outputs": [],
   "source": [
    "day_of_the week = 'Mon'\n",
    "if day_of_week == 'Mon':\n",
    "    print() - "
   ]
  },
  {
   "cell_type": "code",
   "execution_count": null,
   "metadata": {},
   "outputs": [],
   "source": [
    "#multiple options (elif)\n",
    "#mon - 'if else'\n",
    "#Wed - 'loops\n",
    "#fri -  'homework'\n",
    "#any other day - 'fun stuff woohoo'\n"
   ]
  },
  {
   "cell_type": "code",
   "execution_count": null,
   "metadata": {},
   "outputs": [],
   "source": [
    "#check if a character is a vowel\n",
    "letter_one = 'a'#True\n",
    "letter_two = 'i' #True\n",
    "letter_three = 'x'#False\n",
    "letter_four = 'u' #True\n",
    "\n",
    "# What letter is a vowel\n",
    "text = letter_one\n",
    "if 'a', 'e', \n",
    "\n"
   ]
  },
  {
   "cell_type": "code",
   "execution_count": 1,
   "metadata": {},
   "outputs": [
    {
     "name": "stdout",
     "output_type": "stream",
     "text": [
      "priscilla\n"
     ]
    }
   ],
   "source": [
    "#user input from keyboard\n",
    "name = input('Type your name here: ')\n",
    "print(name)\n"
   ]
  },
  {
   "cell_type": "code",
   "execution_count": null,
   "metadata": {},
   "outputs": [],
   "source": [
    "#Challenge 2\n",
    "#prompt the user to enter a value between 1 and 10\n",
    "# compare the input with your secret number\n",
    "# if input if less that secret print 'too small'\n",
    "# if input if greater that secret print 'too big'\n",
    "#if its equal, print 'yaaah you are correct', then end\n",
    "\n",
    "number = int(input('guess: '))\n",
    "\n",
    "Secret_number = 7\n",
    "\n",
    "If number == Secret_number: \n",
    "\n",
    "\n",
    "\n"
   ]
  },
  {
   "cell_type": "code",
   "execution_count": null,
   "metadata": {},
   "outputs": [],
   "source": [
    "#fizzbuzz\n",
    "#if num is divisible by 3 print fizz\n",
    "#if num is              5 buzz\n",
    "                       #15 fizzbuzz\n",
    " #otherwise                      #print number\n",
    "\n",
    " for num in range (1, 51):\n",
    "     #put your code here:\n",
    "     if num % 3\n",
    "     print(fizz)\n",
    "     if num % by 5\n",
    "     print()\n"
   ]
  },
  {
   "cell_type": "code",
   "execution_count": null,
   "metadata": {},
   "outputs": [],
   "source": [
    "#Truthy vs Falsey\n",
    "#some values are inherently true and some \n",
    "#the value 0 is falsey\n",
    "#any positive integer is Truthy\n",
    "#empty string is falsey\n"
   ]
  },
  {
   "cell_type": "code",
   "execution_count": 15,
   "metadata": {},
   "outputs": [
    {
     "name": "stdout",
     "output_type": "stream",
     "text": [
      "eligible to vote\n",
      "too far\n",
      "lets do something else\n",
      "fun stuff\n"
     ]
    }
   ],
   "source": [
    "age = 17\n",
    "#print 'eligible to vote ' if age is >=  18\n",
    "if age >= 17:\n",
    "    print('eligible to vote')\n",
    "\n",
    "#print too far if the distance between city_one and city_two is greater than 10\n",
    "city_one = 45\n",
    "city_two = 56\n",
    "\n",
    "if city_two - city_one > 10:\n",
    "    print('too far')\n",
    "\n",
    "#else\n",
    "day_of_week =  'Mon'\n",
    "#print 'good day for python' if the day of the week is Mon,\n",
    "#otherwise print 'lets do something else'\n",
    "\n",
    "if day_of_week == 'Mon':\n",
    "    print('good day for python')\n",
    "    print('we can do homewwork')\n",
    "else:\n",
    "    print('lets do something else')\n",
    "\n",
    "#multiple options\n",
    "#mon - 'if else'\n",
    "#wed - 'loops'\n",
    "#fri - 'homework'\n",
    "#any other day - 'fun stuff woohoo'\n",
    "\n",
    "if day_of_week == 'Mon':\n",
    "    print('if else')\n",
    "elif day_of_week == 'wed':\n",
    "    print('loops')\n",
    "elif day_of_week == 'fri':\n",
    "    print('homework')\n",
    "else:\n",
    "    print('fun stuff')\n",
    "\n",
    "\n"
   ]
  },
  {
   "cell_type": "code",
   "execution_count": 22,
   "metadata": {},
   "outputs": [
    {
     "name": "stdout",
     "output_type": "stream",
     "text": [
      "B\n"
     ]
    }
   ],
   "source": [
    "#challenge 3\n",
    "#print the letter grade given a score\n",
    "#80 and above, print A\n",
    "#60 to 79 print B\n",
    "#50 to 59 print C\n",
    "#otherwise print F (0-49)\n",
    "\n",
    "Score = 67\n",
    "if Score >= 80:\n",
    "    print('A')\n",
    "elif Score >=60:\n",
    "    print('B')\n",
    "elif Score >=50:\n",
    "    print('C')\n",
    "else:\n",
    "    print('F')\n",
    "\n"
   ]
  },
  {
   "cell_type": "code",
   "execution_count": 30,
   "metadata": {},
   "outputs": [
    {
     "name": "stdout",
     "output_type": "stream",
     "text": [
      "None\n",
      "None\n"
     ]
    }
   ],
   "source": [
    "#compound statement in our if\n",
    "#if its a monday and raining stay inside\n",
    "day_of_week = 'Mon'\n",
    "weather = 'sunny'\n",
    "action = None\n",
    "if day_of_week == 'Mon' and weather == 'rainy':\n",
    "    action = 'Stay inside'\n",
    "print(action)\n",
    "\n",
    "#and - all conditions have to be true for the result to be true\n",
    "#a and b and c and e ->True if ALL are true\n",
    "\n",
    "if day_of_week == 'Wed' or weather == 'sunny':\n",
    "    acton = 'Go biking'\n",
    "print(action)"
   ]
  }
 ],
 "metadata": {
  "interpreter": {
   "hash": "4cd5083005a614767fe4face7e7647dc14fb7cb8b5ced61202c39edcbe34846b"
  },
  "kernelspec": {
   "display_name": "Python 3.9.12 ('base')",
   "language": "python",
   "name": "python3"
  },
  "language_info": {
   "codemirror_mode": {
    "name": "ipython",
    "version": 3
   },
   "file_extension": ".py",
   "mimetype": "text/x-python",
   "name": "python",
   "nbconvert_exporter": "python",
   "pygments_lexer": "ipython3",
   "version": "3.9.12"
  },
  "orig_nbformat": 4
 },
 "nbformat": 4,
 "nbformat_minor": 2
}
