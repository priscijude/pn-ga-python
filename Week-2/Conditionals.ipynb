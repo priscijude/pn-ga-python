{
 "cells": [
  {
   "cell_type": "code",
   "execution_count": null,
   "metadata": {},
   "outputs": [],
   "source": [
    "#Truthy vs falsey\n",
    "\n",
    "#some values are inherently true and some false\n",
    "#value 0 is Falsey\n",
    "#any integer is Truthy\n",
    "#empty string is falsey\n",
    "#none is falsey\n",
    "\n"
   ]
  },
  {
   "cell_type": "code",
   "execution_count": null,
   "metadata": {},
   "outputs": [],
   "source": [
    "#for conditionals, we use comparison operators\n",
    "#>\n",
    "#<\n",
    "#>=greater than or equal to\n",
    "#== equality\n",
    "#=\n",
    "#!= not equal to"
   ]
  },
  {
   "cell_type": "code",
   "execution_count": null,
   "metadata": {},
   "outputs": [],
   "source": [
    "#multiple options (elif)\n",
    "#mon - 'if else'\n",
    "#Wed - 'loops\n",
    "#fri -  'homework'\n",
    "#any other day - 'fun stuff woohoo'\n"
   ]
  },
  {
   "cell_type": "code",
   "execution_count": 16,
   "metadata": {},
   "outputs": [
    {
     "name": "stdout",
     "output_type": "stream",
     "text": [
      "no vowel\n",
      "No vowel\n"
     ]
    }
   ],
   "source": [
    "#check if a character is a vowel\n",
    "letter_one = 'a'#True\n",
    "letter_two = 'i' #True\n",
    "letter_three = 'x'#False\n",
    "letter_four = 'u' #True\n",
    "\n",
    "# What letter is a vowel\n",
    "text = letter_three\n",
    "if text == 'a' or text == 'e' or text == 'i'or text == 'o' or text =='u':\n",
    "    print('it is a vowel')\n",
    "else:\n",
    "    print('no vowel')\n",
    "\n",
    "#use the in operator to check for membership in a list or string\n",
    "\n",
    "vowels = 'aeiou'\n",
    "if text in vowels:\n",
    "    print('it is a vowel')\n",
    "else:\n",
    "    print('No vowel')\n",
    "    \n",
    "\n"
   ]
  },
  {
   "cell_type": "code",
   "execution_count": 17,
   "metadata": {},
   "outputs": [
    {
     "name": "stdout",
     "output_type": "stream",
     "text": [
      "priscilla\n"
     ]
    }
   ],
   "source": [
    "#user input from keyboard\n",
    "name = input('Type your name here: ')\n",
    "print(name)\n"
   ]
  },
  {
   "cell_type": "code",
   "execution_count": 20,
   "metadata": {},
   "outputs": [
    {
     "name": "stdout",
     "output_type": "stream",
     "text": [
      "10\n"
     ]
    }
   ],
   "source": [
    "number_one = int(input('enter first num: '))\n",
    "number_two = int(input('enter second num: '))\n",
    "print(number_one + number_two)"
   ]
  },
  {
   "cell_type": "code",
   "execution_count": 23,
   "metadata": {},
   "outputs": [
    {
     "name": "stdout",
     "output_type": "stream",
     "text": [
      "yaay you are correct\n"
     ]
    }
   ],
   "source": [
    "#Challenge 2\n",
    "#prompt the user to enter a value between 1 and 10\n",
    "# compare the input with your secret number\n",
    "# if input if less that secret print 'too small'\n",
    "# if input if greater that secret print 'too big'\n",
    "#if its equal, print 'yaaah you are correct', then end\n",
    "\n",
    "number = int(input('guess: '))\n",
    "\n",
    "Secret_number = 7\n",
    "\n",
    "if number == Secret_number:\n",
    "    print('yaay you are correct')\n",
    "elif number < Secret_number:\n",
    "    print('too small')\n",
    "elif number > Secret_number:\n",
    "    print('too big')\n",
    "\n",
    "\n",
    "\n",
    "\n"
   ]
  },
  {
   "cell_type": "code",
   "execution_count": 32,
   "metadata": {},
   "outputs": [
    {
     "name": "stdout",
     "output_type": "stream",
     "text": [
      "1\n",
      "2\n",
      "fizzbuzz\n",
      "4\n",
      "buzz\n",
      "fizzbuzz\n",
      "7\n",
      "8\n",
      "fizzbuzz\n",
      "buzz\n",
      "11\n",
      "fizzbuzz\n",
      "13\n",
      "14\n",
      "fizz\n",
      "16\n",
      "17\n",
      "fizzbuzz\n",
      "19\n",
      "buzz\n",
      "fizzbuzz\n",
      "22\n",
      "23\n",
      "fizzbuzz\n",
      "buzz\n",
      "26\n",
      "fizzbuzz\n",
      "28\n",
      "29\n",
      "fizz\n",
      "31\n",
      "32\n",
      "fizzbuzz\n",
      "34\n",
      "buzz\n",
      "fizzbuzz\n",
      "37\n",
      "38\n",
      "fizzbuzz\n",
      "buzz\n",
      "41\n",
      "fizzbuzz\n",
      "43\n",
      "44\n",
      "fizz\n",
      "46\n",
      "47\n",
      "fizzbuzz\n",
      "49\n",
      "buzz\n"
     ]
    }
   ],
   "source": [
    "#fizzbuzz\n",
    "#if num is divisible by 3 print fizz\n",
    "#if num is divisible by 5 print buzz\n",
    "#if number is divisible by 15 print fizzbuzz\n",
    "#otherwise just print the number\n",
    "\n",
    "for num in range(1, 51):\n",
    "    if num % 15 == 0:\n",
    "        print('fizz')\n",
    "    elif num % 5 == 0:\n",
    "        print('buzz')\n",
    "    elif num % 3 == 0:\n",
    "        print('fizzbuzz')\n",
    "    else:\n",
    "        print(num)\n"
   ]
  },
  {
   "cell_type": "code",
   "execution_count": null,
   "metadata": {},
   "outputs": [],
   "source": [
    "#Truthy vs Falsey\n",
    "#some values are inherently true and some \n",
    "#the value 0 is falsey\n",
    "#any positive integer is Truthy\n",
    "#empty string is falsey\n"
   ]
  },
  {
   "cell_type": "code",
   "execution_count": 15,
   "metadata": {},
   "outputs": [
    {
     "name": "stdout",
     "output_type": "stream",
     "text": [
      "eligible to vote\n",
      "too far\n",
      "lets do something else\n",
      "fun stuff\n"
     ]
    }
   ],
   "source": [
    "age = 17\n",
    "#print 'eligible to vote ' if age is >=  18\n",
    "if age >= 17:\n",
    "    print('eligible to vote')\n",
    "\n",
    "#print too far if the distance between city_one and city_two is greater than 10\n",
    "city_one = 45\n",
    "city_two = 56\n",
    "\n",
    "if city_two - city_one > 10:\n",
    "    print('too far')\n",
    "\n",
    "#else\n",
    "day_of_week =  'Mon'\n",
    "#print 'good day for python' if the day of the week is Mon,\n",
    "#otherwise print 'lets do something else'\n",
    "\n",
    "if day_of_week == 'Mon':\n",
    "    print('good day for python')\n",
    "    print('we can do homewwork')\n",
    "else:\n",
    "    print('lets do something else')\n",
    "\n",
    "#multiple options\n",
    "#mon - 'if else'\n",
    "#wed - 'loops'\n",
    "#fri - 'homework'\n",
    "#any other day - 'fun stuff woohoo'\n",
    "\n",
    "if day_of_week == 'Mon':\n",
    "    print('if else')\n",
    "elif day_of_week == 'wed':\n",
    "    print('loops')\n",
    "elif day_of_week == 'fri':\n",
    "    print('homework')\n",
    "else:\n",
    "    print('fun stuff')\n",
    "\n",
    "\n"
   ]
  },
  {
   "cell_type": "code",
   "execution_count": 22,
   "metadata": {},
   "outputs": [
    {
     "name": "stdout",
     "output_type": "stream",
     "text": [
      "B\n"
     ]
    }
   ],
   "source": [
    "#challenge 3\n",
    "#print the letter grade given a score\n",
    "#80 and above, print A\n",
    "#60 to 79 print B\n",
    "#50 to 59 print C\n",
    "#otherwise print F (0-49)\n",
    "\n",
    "Score = 67\n",
    "if Score >= 80:\n",
    "    print('A')\n",
    "elif Score >=60:\n",
    "    print('B')\n",
    "elif Score >=50:\n",
    "    print('C')\n",
    "else:\n",
    "    print('F')\n",
    "\n"
   ]
  },
  {
   "cell_type": "code",
   "execution_count": 9,
   "metadata": {},
   "outputs": [
    {
     "name": "stdout",
     "output_type": "stream",
     "text": [
      "None\n",
      "Go biking\n"
     ]
    }
   ],
   "source": [
    "#compound statement in our if\n",
    "#if its a monday and raining stay inside\n",
    "\n",
    "day_of_week = 'Mon'\n",
    "weather = 'sunny'\n",
    "action = 'None'\n",
    "\n",
    "if day_of_week == 'Mon' and weather == 'rainy':\n",
    "    action = 'Stay inside'\n",
    "\n",
    "print(action)\n",
    "\n",
    "#and - all conditions have to be true for the result to be true\n",
    "#a and b and c and e ->True if ALL are true\n",
    "\n",
    "if day_of_week == 'Wed' or weather == 'sunny':\n",
    "    action = 'Go biking'\n",
    "\n",
    "print(action)"
   ]
  },
  {
   "cell_type": "code",
   "execution_count": null,
   "metadata": {},
   "outputs": [],
   "source": [
    "#check if a character is involved"
   ]
  }
 ],
 "metadata": {
  "interpreter": {
   "hash": "4cd5083005a614767fe4face7e7647dc14fb7cb8b5ced61202c39edcbe34846b"
  },
  "kernelspec": {
   "display_name": "Python 3.9.12 ('base')",
   "language": "python",
   "name": "python3"
  },
  "language_info": {
   "codemirror_mode": {
    "name": "ipython",
    "version": 3
   },
   "file_extension": ".py",
   "mimetype": "text/x-python",
   "name": "python",
   "nbconvert_exporter": "python",
   "pygments_lexer": "ipython3",
   "version": "3.9.12"
  },
  "orig_nbformat": 4
 },
 "nbformat": 4,
 "nbformat_minor": 2
}
