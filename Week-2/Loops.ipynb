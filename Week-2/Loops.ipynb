{
 "cells": [
  {
   "cell_type": "code",
   "execution_count": 6,
   "metadata": {},
   "outputs": [
    {
     "name": "stdout",
     "output_type": "stream",
     "text": [
      "found a zero\n"
     ]
    }
   ],
   "source": [
    "#check if there is zero in this list\n",
    "#if yes print found a zero\n",
    "#if noprint no zeros\n",
    "nums = [-1, -5, 4, 3, 7, 8, 0, -7]\n",
    "for num in nums:\n",
    "    if num == 0:\n",
    "        print('found a zero')\n",
    "\n"
   ]
  },
  {
   "cell_type": "code",
   "execution_count": 1,
   "metadata": {},
   "outputs": [
    {
     "name": "stdout",
     "output_type": "stream",
     "text": [
      "13\n"
     ]
    }
   ],
   "source": [
    "#print the first odd number on list\n",
    "my_nums = [0, 2, -6, -12, 13, 5, 24, 11, 3]\n",
    "for num in my_nums:\n",
    "    if num % 2 == 1:\n",
    "        print(num)\n",
    "        break"
   ]
  },
  {
   "cell_type": "code",
   "execution_count": 5,
   "metadata": {},
   "outputs": [
    {
     "name": "stdout",
     "output_type": "stream",
     "text": [
      "51\n",
      "-8 59\n"
     ]
    }
   ],
   "source": [
    "#find the sum of all the numbers in this list\n",
    "temps = [-2, -5, -1, 0, 2, 5, 11, 7, 13, 21]\n",
    "total = 0\n",
    "for temp in temps:\n",
    "    total += temp\n",
    "print(total)\n",
    "\n",
    "#calculate 2 totals: total of the negative numbers, and total of the positive numbers\n",
    "positive_total = 0\n",
    "negative_total = 0\n",
    "for temp in temps:\n",
    "    if temp < 0:\n",
    "        negative_total += temp\n",
    "    else:\n",
    "        positive_total += temp\n",
    "print(negative_total, positive_total)\n",
    "\n",
    "    \n",
    "\n",
    "\n"
   ]
  },
  {
   "cell_type": "code",
   "execution_count": 8,
   "metadata": {},
   "outputs": [
    {
     "name": "stdout",
     "output_type": "stream",
     "text": [
      "pythn s mzng\n"
     ]
    }
   ],
   "source": [
    "#create a new string from this string, with all the vowels removed\n",
    "\n",
    "string = 'python is amazing' #pythn s mzng\n",
    "\n",
    "vowels =['a', 'e', 'i', 'o', 'u' 'A', 'E','I','O','U']\n",
    "\n",
    "new_string = ''\n",
    "for letter in string:\n",
    "    if letter not in vowels:\n",
    "        new_string += letter\n",
    "print(new_string)\n",
    "    \n",
    "\n",
    "\n"
   ]
  },
  {
   "cell_type": "code",
   "execution_count": 10,
   "metadata": {},
   "outputs": [
    {
     "name": "stdout",
     "output_type": "stream",
     "text": [
      "3\n"
     ]
    }
   ],
   "source": [
    "#for loops using indices\n",
    "#what if we want to know the index of a value in a list\n",
    "values = [-1, 5, 3, 7, 8, 7, -11, 23] #3\n",
    "\n",
    "#we need to use range function\n",
    "first_seven_index = -1\n",
    "for idx in range(len(values)):\n",
    "    if values[idx] ==7:\n",
    "        first_seven_index = idx\n",
    "        break\n",
    "print(first_seven_index)"
   ]
  },
  {
   "cell_type": "code",
   "execution_count": null,
   "metadata": {},
   "outputs": [],
   "source": [
    "#challenge\n",
    "cities = ['cacun', 'cozumel', 'montego bay', 'rio de janeiro', 'cozumel'] #1,5\n",
    "\n",
    "#1. positions of all the cozmels in the list\n",
    "#2. store them in a new list\n",
    "#3. print the new list\n",
    "#4. replace them with los cabos\n",
    "\n",
    "cozumel_indexes = []\n",
    "for idx in range(len(cities)):\n",
    "    if cities[idx] == 'cozumel':\n",
    "        \n"
   ]
  },
  {
   "cell_type": "code",
   "execution_count": null,
   "metadata": {},
   "outputs": [],
   "source": []
  }
 ],
 "metadata": {
  "kernelspec": {
   "display_name": "Python 3.10.5 64-bit (windows store)",
   "language": "python",
   "name": "python3"
  },
  "language_info": {
   "codemirror_mode": {
    "name": "ipython",
    "version": 3
   },
   "file_extension": ".py",
   "mimetype": "text/x-python",
   "name": "python",
   "nbconvert_exporter": "python",
   "pygments_lexer": "ipython3",
   "version": "3.10.5"
  },
  "orig_nbformat": 4,
  "vscode": {
   "interpreter": {
    "hash": "7540359889c7e321c229492797f8275cf90e605fa95f66d3b025b1e90ad7f863"
   }
  }
 },
 "nbformat": 4,
 "nbformat_minor": 2
}
