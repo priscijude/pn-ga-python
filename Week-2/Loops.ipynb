{
 "cells": [
  {
   "cell_type": "code",
   "execution_count": 6,
   "metadata": {},
   "outputs": [
    {
     "name": "stdout",
     "output_type": "stream",
     "text": [
      "found a zero\n"
     ]
    }
   ],
   "source": [
    "#check if there is zero in this list\n",
    "#if yes print found a zero\n",
    "#if noprint no zeros\n",
    "nums = [-1, -5, 4, 3, 7, 8, 0, -7]\n",
    "for num in nums:\n",
    "    if num == 0:\n",
    "        print('found a zero')\n",
    "\n"
   ]
  },
  {
   "cell_type": "code",
   "execution_count": 1,
   "metadata": {},
   "outputs": [
    {
     "name": "stdout",
     "output_type": "stream",
     "text": [
      "13\n"
     ]
    }
   ],
   "source": [
    "#print the first odd number on list\n",
    "my_nums = [0, 2, -6, -12, 13, 5, 24, 11, 3]\n",
    "for num in my_nums:\n",
    "    if num % 2 == 1:\n",
    "        print(num)\n",
    "        break"
   ]
  },
  {
   "cell_type": "code",
   "execution_count": 5,
   "metadata": {},
   "outputs": [
    {
     "name": "stdout",
     "output_type": "stream",
     "text": [
      "51\n",
      "-8 59\n"
     ]
    }
   ],
   "source": [
    "#find the sum of all the numbers in this list\n",
    "temps = [-2, -5, -1, 0, 2, 5, 11, 7, 13, 21]\n",
    "total = 0\n",
    "for temp in temps:\n",
    "    total += temp\n",
    "print(total)\n",
    "\n",
    "#calculate 2 totals: total of the negative numbers, and total of the positive numbers\n",
    "positive_total = 0\n",
    "negative_total = 0\n",
    "for temp in temps:\n",
    "    if temp < 0:\n",
    "        negative_total += temp\n",
    "    else:\n",
    "        positive_total += temp\n",
    "print(negative_total, positive_total)\n",
    "\n",
    "    \n",
    "\n",
    "\n"
   ]
  },
  {
   "cell_type": "code",
   "execution_count": 8,
   "metadata": {},
   "outputs": [
    {
     "name": "stdout",
     "output_type": "stream",
     "text": [
      "pythn s mzng\n"
     ]
    }
   ],
   "source": [
    "#create a new string from this string, with all the vowels removed\n",
    "\n",
    "string = 'python is amazing' #pythn s mzng\n",
    "\n",
    "vowels =['a', 'e', 'i', 'o', 'u' 'A', 'E','I','O','U']\n",
    "\n",
    "new_string = ''\n",
    "for letter in string:\n",
    "    if letter not in vowels:\n",
    "        new_string += letter\n",
    "print(new_string)\n",
    "    \n",
    "\n",
    "\n"
   ]
  },
  {
   "cell_type": "code",
   "execution_count": 10,
   "metadata": {},
   "outputs": [
    {
     "name": "stdout",
     "output_type": "stream",
     "text": [
      "3\n"
     ]
    }
   ],
   "source": [
    "#for loops using indices\n",
    "#what if we want to know the index of a value in a list\n",
    "values = [-1, 5, 3, 7, 8, 7, -11, 23] #3\n",
    "\n",
    "#we need to use range function\n",
    "first_seven_index = -1\n",
    "for idx in range(len(values)):\n",
    "    if values[idx] ==7:\n",
    "        first_seven_index = idx\n",
    "        break\n",
    "print(first_seven_index)"
   ]
  },
  {
   "cell_type": "code",
   "execution_count": null,
   "metadata": {},
   "outputs": [],
   "source": [
    "#challenge\n",
    "cities = ['cacun', 'cozumel', 'montego bay', 'rio de janeiro', 'cozumel'] #1,5\n",
    "\n",
    "#1. positions of all the cozmels in the list\n",
    "#2. store them in a new list\n",
    "#3. print the new list\n",
    "#4. replace them with los cabos\n",
    "\n",
    "cozumel_indexes = []\n",
    "for idx in range(len(cities)):\n",
    "    if cities[idx] == 'cozumel':\n",
    "        \n"
   ]
  },
  {
   "cell_type": "code",
   "execution_count": 1,
   "metadata": {},
   "outputs": [
    {
     "name": "stdout",
     "output_type": "stream",
     "text": [
      "not correct, guess again\n",
      "not correct, guess again\n",
      "not correct, guess again\n",
      "not correct, guess again\n",
      "not correct, guess again\n",
      "not correct, guess again\n",
      "not correct, guess again\n",
      "yaah!! you are correct\n"
     ]
    }
   ],
   "source": [
    "import random\n",
    "\n",
    "secret_number = random.randint(1, 10)\n",
    "\n",
    "guess = int(input('guessthe secret_number(its between 1 and 10):'))\n",
    "while guess != secret_number:\n",
    "    print('not correct, guess again')\n",
    "    guess = int(input('guess the secret_number (its between 1 and 10):'))\n",
    "print('yaah!! you are correct')"
   ]
  },
  {
   "cell_type": "code",
   "execution_count": 3,
   "metadata": {},
   "outputs": [
    {
     "name": "stdout",
     "output_type": "stream",
     "text": [
      "1\n",
      "3\n",
      "5\n"
     ]
    }
   ],
   "source": [
    "for nums in range(6):\n",
    "    if nums % 2 == 1:\n",
    "        print(nums)"
   ]
  },
  {
   "cell_type": "code",
   "execution_count": 5,
   "metadata": {},
   "outputs": [
    {
     "name": "stdout",
     "output_type": "stream",
     "text": [
      "5\n"
     ]
    }
   ],
   "source": [
    "total = 0\n",
    "for nums in range(6):\n",
    "    total += nums\n",
    "print(nums)"
   ]
  },
  {
   "cell_type": "code",
   "execution_count": 6,
   "metadata": {},
   "outputs": [
    {
     "name": "stdout",
     "output_type": "stream",
     "text": [
      "2\n",
      "4\n",
      "8\n",
      "16\n"
     ]
    }
   ],
   "source": [
    "x = 1\n",
    "while x < 10:\n",
    "    x = x * 2\n",
    "    print(x)"
   ]
  },
  {
   "cell_type": "code",
   "execution_count": 9,
   "metadata": {},
   "outputs": [
    {
     "name": "stdout",
     "output_type": "stream",
     "text": [
      "value\n"
     ]
    }
   ],
   "source": [
    "calculator(\"*\", 10, 5)\n",
    "def calculator(operation, value1, value2):\n",
    "    if operation == \"+\": return value1 + value2\n",
    "    if operation == \"-\": return value1 - value2\n",
    "    if operation == \"*\": return value1 * value2\n",
    "    if operation == \"/\": return value1 / value2\n",
    "\n"
   ]
  },
  {
   "cell_type": "code",
   "execution_count": 10,
   "metadata": {},
   "outputs": [
    {
     "name": "stdout",
     "output_type": "stream",
     "text": [
      "band: queen genre: rock\n"
     ]
    }
   ],
   "source": [
    "class Band(object):\n",
    "    def __init__(self, band, genre):\n",
    "        self.band = band\n",
    "        self.genre = genre\n",
    "\n",
    "    def give_stats(self):\n",
    "        return 'band: {} genre: {}'.format(self.band, self.genre)\n",
    "\n",
    "Queen = Band('queen', 'rock')\n",
    "print(Queen.give_stats())"
   ]
  },
  {
   "cell_type": "code",
   "execution_count": 33,
   "metadata": {},
   "outputs": [
    {
     "data": {
      "text/plain": [
       "120000"
      ]
     },
     "execution_count": 33,
     "metadata": {},
     "output_type": "execute_result"
    }
   ],
   "source": [
    "my_Building = Building(1200, 6, 2)\n",
    "class Building():\n",
    "   def __init__(self, sqft, rooms, bathrooms):\n",
    "      self.sqft = sqft\n",
    "      self.rooms = rooms\n",
    "      self.bathrooms = bathrooms\n",
    "\n",
    "   def describe_building(self):\n",
    "       print('Rooms:', self.rooms)\n",
    "       print('Baths:', self.bathrooms)\n",
    "       print ('Sq. Ft.:', self.sqft)\n",
    "\n",
    "   def get_price(self):\n",
    "       price = self.sqft*5 + self.rooms*15000 + self.bathrooms*15000\n",
    "       return price\n",
    "\n",
    "my_Building.get_price()\n",
    "\n",
    "class House(Building):\n",
    "   def __init__(self, sqft, rooms, bathrooms, bedrooms):\n",
    "      super().__init__(sqft, rooms, bathrooms)\n",
    "      self.bedrooms = bedrooms\n",
    "\n",
    "   def get_price(self):\n",
    "       price = self.sqft*5 + self.bedrooms*20000 + self.bathrooms*10000\n",
    "       return price\n",
    "\n",
    "my_building = Building(2000, 3, 4)\n",
    "# 115,000\n",
    "my_house = House(2000, 10, 3, 4)\n",
    "# 120,000\n",
    "my_house.get_price()\n",
    "\n",
    "    \n"
   ]
  }
 ],
 "metadata": {
  "kernelspec": {
   "display_name": "Python 3.10.5 64-bit (windows store)",
   "language": "python",
   "name": "python3"
  },
  "language_info": {
   "codemirror_mode": {
    "name": "ipython",
    "version": 3
   },
   "file_extension": ".py",
   "mimetype": "text/x-python",
   "name": "python",
   "nbconvert_exporter": "python",
   "pygments_lexer": "ipython3",
   "version": "3.10.5"
  },
  "orig_nbformat": 4,
  "vscode": {
   "interpreter": {
    "hash": "7540359889c7e321c229492797f8275cf90e605fa95f66d3b025b1e90ad7f863"
   }
  }
 },
 "nbformat": 4,
 "nbformat_minor": 2
}
