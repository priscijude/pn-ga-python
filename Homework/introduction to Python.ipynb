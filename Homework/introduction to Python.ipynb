{
 "cells": [
  {
   "cell_type": "code",
   "execution_count": null,
   "metadata": {},
   "outputs": [],
   "source": []
  },
  {
   "cell_type": "code",
   "execution_count": 2,
   "metadata": {},
   "outputs": [
    {
     "name": "stdout",
     "output_type": "stream",
     "text": [
      "The Zen of Python, by Tim Peters\n",
      "\n",
      "Beautiful is better than ugly.\n",
      "Explicit is better than implicit.\n",
      "Simple is better than complex.\n",
      "Complex is better than complicated.\n",
      "Flat is better than nested.\n",
      "Sparse is better than dense.\n",
      "Readability counts.\n",
      "Special cases aren't special enough to break the rules.\n",
      "Although practicality beats purity.\n",
      "Errors should never pass silently.\n",
      "Unless explicitly silenced.\n",
      "In the face of ambiguity, refuse the temptation to guess.\n",
      "There should be one-- and preferably only one --obvious way to do it.\n",
      "Although that way may not be obvious at first unless you're Dutch.\n",
      "Now is better than never.\n",
      "Although never is often better than *right* now.\n",
      "If the implementation is hard to explain, it's a bad idea.\n",
      "If the implementation is easy to explain, it may be a good idea.\n",
      "Namespaces are one honking great idea -- let's do more of those!\n"
     ]
    }
   ],
   "source": [
    "# 1.1 Our First Jupyter Cell\n",
    "# Select this cell and execute it by clicking run or using the shortcut, ctrl + enter\n",
    "# This will display the \"Zen of Python,\" describing the philosophy behind python\n",
    "import this\n"
   ]
  },
  {
   "cell_type": "code",
   "execution_count": 23,
   "metadata": {},
   "outputs": [
    {
     "name": "stdout",
     "output_type": "stream",
     "text": [
      "Hello, my name is Priscilla and I am happy about learning python. \n"
     ]
    }
   ],
   "source": [
    "# 1.2 Introduce Yourself\n",
    "# Define the variables greeting, name, and mood, and assign them string-type values\n",
    "# Then, execute this cell to see an introduction message printed to the console\n",
    "\n",
    "\n",
    "#print(greeting + \", my name is \" + name + \" and I am \" + mood + \" about learning python.\")\n",
    "\n",
    "greeting = \"Hello\"\n",
    "name = \"Priscilla\"\n",
    "mood = \"happy\"\n",
    "print(greeting + \", my name is \" + name + \" and I am \" + mood + \" about learning python. \")"
   ]
  },
  {
   "cell_type": "code",
   "execution_count": 24,
   "metadata": {},
   "outputs": [
    {
     "name": "stdout",
     "output_type": "stream",
     "text": [
      "0.47100000000000003\n"
     ]
    }
   ],
   "source": [
    "# 1.3 Operators and Updating Variables\n",
    "# Define numeric variables for the month and day of your birthdate to be used whenever requested\n",
    "month = 4\n",
    "day = 29\n",
    "\n",
    "# Write a new line of code beneath each comment, always updating the birthdate variable as you do so\n",
    "birthdate = 7\n",
    "\n",
    "# Multiply by the month \n",
    "birthdate = birthdate * month\n",
    "\n",
    "# Subtract 1\n",
    "birthdate -= 1\n",
    "\n",
    "# Multiply by 13\n",
    "birthdate *= 13\n",
    "\n",
    "# Add the day of your birth\n",
    "birthdate += day\n",
    "\n",
    "# Add 3\n",
    "birthdate = birthdate + 3 \n",
    "\n",
    "# Multiply by 11\n",
    "birthdate += 11\n",
    "\n",
    "# Subtract the month of your birth\n",
    "birthdate -= month\n",
    "\n",
    "# Subtract the day of your birth\n",
    "birthdate -= day\n",
    "\n",
    "# Divide by 10\n",
    "birthdate /= 10\n",
    "\n",
    "# Add 11\n",
    "birthdate += 11\n",
    "\n",
    "# Divide by 100\n",
    "birthdate /= 100\n",
    "\n",
    "# birthdate should now be a floating point number with the day.month of your birthday\n",
    "print(birthdate)"
   ]
  },
  {
   "cell_type": "code",
   "execution_count": 29,
   "metadata": {},
   "outputs": [
    {
     "name": "stdout",
     "output_type": "stream",
     "text": [
      "It was Daniel's first day at school. He met a beautifull young lady and he was very hopeful for romance. He was going to ask her to dinner when he heard she was rushed to the hospital. He spent the night by her bed side, she was thankful that he did.\n"
     ]
    }
   ],
   "source": [
    "# 1.4 Python Mad Libs\n",
    "# Create a Mad Libs style game using string concatenation or the \"f-string\" style string interpolation\n",
    "# First, define at least 7 variables with names such as adjective_one or noun_three\n",
    "# Then, plug those variables into a long string that tells a story using those variables\n",
    "\n",
    "adjective_one = \"beautifull\"\n",
    "adjective_two = \"thankful\"\n",
    "adjective_three = \"hopeful\"\n",
    "noun_one = \"lady\"\n",
    "noun_two = \"school\"\n",
    "noun_three = \"hospital\"\n",
    "verb_one = \"going\"\n",
    "verb_two = \"ask\"\n",
    "verb_three = \"rushed\"\n",
    "Story_of_a_gentleman = f\"It was Daniel's first day at {noun_two}. He met a {adjective_one} young {noun_one} and he was very {adjective_three} for romance. He was {verb_one} to {verb_two} her to dinner when he heard she was {verb_three} to the {noun_three}. He spent the night by her bed side, she was {adjective_two} that he did.\"\n",
    "print(Story_of_a_gentleman)"
   ]
  },
  {
   "cell_type": "code",
   "execution_count": 62,
   "metadata": {},
   "outputs": [
    {
     "name": "stdout",
     "output_type": "stream",
     "text": [
      "y\n",
      "10\n",
      "5Hello\n",
      "30\n",
      "I enjoy python in the morning\n",
      "There are 2 plums at home forme\n"
     ]
    }
   ],
   "source": [
    "# 1.5 Code Fast and Break Things\n",
    "# Each of the following lines of code is mistaken in some way\n",
    "# Either they contain errors or don't do what the user would expect them to\n",
    "# Correct each example, and write a comment explaining what went wrong\n",
    "\n",
    "# A.\n",
    "my_variable = \"y\"\n",
    "print(my_variable)\n",
    "\n",
    "# error was my_variable was not defined\n",
    "\n",
    "# B.\n",
    "# Why didn't it print ten?\n",
    "my_number = 5\n",
    "my_number += 5\n",
    "print(my_number)\n",
    "#use assignment operator\n",
    "\n",
    "# C.\n",
    "#my_num = 5\n",
    "my_num = 5\n",
    "my_string = \"Hello\"\n",
    "print(str(my_num) + my_string)\n",
    "#you have to turn int to str, both entries have to str\n",
    "\n",
    "# D.\n",
    "# The user expected the result to be 30!\n",
    "my_num1 = \"10\"\n",
    "my_num2 = \"20\"\n",
    "print(int(my_num1) + int(my_num2))\n",
    "#convert str to int\n",
    "\n",
    "# E.\n",
    "# The user expected the message to read \"I enjoy python in the morning.\"\n",
    "language = \"python\"\n",
    "print(f\"I enjoy {language} in the morning\")\n",
    "\n",
    "#language should be in parentheses\n",
    "\n",
    "# F.\n",
    "# The user expected the message to read \"There are 2 plums at home for me\"\n",
    "number_of_plums = \"2\"\n",
    "who_plums_are_for = \"me\"\n",
    "print(\"There are \" + number_of_plums + \" plums at home for\" + who_plums_are_for)\n",
    "#convert int to str first\n",
    "\n"
   ]
  },
  {
   "cell_type": "code",
   "execution_count": 77,
   "metadata": {},
   "outputs": [
    {
     "name": "stdout",
     "output_type": "stream",
     "text": [
      "Hello Python I'm ready \n",
      "Hello, I am 33 years old.\n",
      "Hello April is my birth month\n",
      "When are Dbanj and Django musicals showing.\n",
      "Hello classmates I am 30 years old\n",
      "Hello Peter and David I'm Daniel I'm 20 years old\n",
      "Hello Lily and Valley I'm Pytutorial I'm 20 years old\n"
     ]
    }
   ],
   "source": [
    "# 1.6 How many ways to print with variables\n",
    "# Programming provides many ways of doing the same thing\n",
    "# We've learned about concatenation and f-string interpolation so far\n",
    "# Below, research and demonstrate four different ways of including variables in a string in python\n",
    "# You don't need to understand exactly how they're working to get them to work!\n",
    "\n",
    "\n",
    "#Method #1: using String concatenation\n",
    "#Method #2: using the \"%\" operator\n",
    "#Method #3: using the format() function\n",
    "#Method #4: using f-string\n",
    "\n",
    "#examples\n",
    "#Method 1: using String concatenation\n",
    "\n",
    "# variable\n",
    "variable = \"Python\"\n",
    "\n",
    "# insert a variable into string using String concatenation\n",
    "print(\"Hello \" + variable + \" I'm ready \")\n",
    "\n",
    "variable = 33\n",
    "\n",
    "# insert a variable into string using concatenation\n",
    "print(\"Hello\" + \", I am \" + str(variable) + \" years old.\")\n",
    "\n",
    "\n",
    "#Method #2: using the \"%\" operator (%s-str, %d-int)\n",
    "\n",
    "month = \"April\"\n",
    "\n",
    "# insert a variable into string using \"%\" operator\n",
    "insert_month = \"Hello %s is my birth month\"%month\n",
    "\n",
    "#print\n",
    "print(insert_month)\n",
    "\n",
    "# variable\n",
    "title_1 = \"Dbanj\"\n",
    "title_2 = \"Django\"\n",
    "\n",
    "# insert multi variables into string using \"%\" operator\n",
    "insert_title = \"When are %s and %s musicals showing.\"%(title_1, title_2)\n",
    "\n",
    "print(insert_title)\n",
    "\n",
    "\n",
    "# %d operator\n",
    "age = 30\n",
    "\n",
    "# insert multi variables int into a string\n",
    "insert_age = \"Hello classmates I am %d years old\"%age\n",
    "\n",
    "#print\n",
    "print(insert_age)\n",
    "\n",
    "\n",
    "#Method #3: using the format() function\n",
    "\n",
    "friend_1 = \"Peter\"\n",
    "friend_2 = \"David\"\n",
    "age = 20\n",
    "\n",
    "# insert variables into string using format()\n",
    "print(\"Hello {} and {} I'm Daniel I'm {} years old\".format(friend_1, friend_2, age)\n",
    ")\n",
    "\n",
    "#Method #4: using f-string\n",
    "Person_1 = \"Lily\"\n",
    "Person_2 = \"Valley\"\n",
    "age = 20\n",
    "\n",
    "print(f\"Hello {Person_1} and {Person_2} I'm Pytutorial I'm {age} years old\")\n",
    "\n",
    "\n",
    "\n",
    "\n",
    "\n",
    "\n",
    "\n",
    "\n",
    "\n",
    "\n",
    "\n"
   ]
  }
 ],
 "metadata": {
  "kernelspec": {
   "display_name": "Python 3.10.5 64-bit (windows store)",
   "language": "python",
   "name": "python3"
  },
  "language_info": {
   "codemirror_mode": {
    "name": "ipython",
    "version": 3
   },
   "file_extension": ".py",
   "mimetype": "text/x-python",
   "name": "python",
   "nbconvert_exporter": "python",
   "pygments_lexer": "ipython3",
   "version": "3.10.5"
  },
  "orig_nbformat": 4,
  "vscode": {
   "interpreter": {
    "hash": "7540359889c7e321c229492797f8275cf90e605fa95f66d3b025b1e90ad7f863"
   }
  }
 },
 "nbformat": 4,
 "nbformat_minor": 2
}
