{
 "cells": [
  {
   "cell_type": "code",
   "execution_count": 85,
   "metadata": {},
   "outputs": [
    {
     "name": "stdout",
     "output_type": "stream",
     "text": [
      "28.75\n",
      "20.0\n",
      "You get what you pay for, Get the most, Buy now for $25\n",
      "Your best value is the 90s Comedy DVD for only 2.99\n"
     ]
    }
   ],
   "source": [
    "# 3.1 Price Conditions\n",
    "# Translate the following logical decisions into python conditionals\n",
    "# A. If the price is under 10, add 10% tax to the price. \n",
    "# Otherwise, add 15% luxury tax instead.\n",
    "price = 25\n",
    "if price <= 10:\n",
    "    print(price + price * 10/100)\n",
    "else:\n",
    "    print(price + price * 15/100)\n",
    "\n",
    "# B. If the customer's status is \"VIP\", lower the price by 20%\n",
    "customer = { \"name\": \"Lisa Su\", \"status\": \"VIP\" }\n",
    "if customer[\"status\"] == \"VIP\":\n",
    "    print(price - price * 20/100)\n",
    "\n",
    "# C. Let's alter our advertising based on the price of the product, filling in the blank with the price\n",
    "#    i. If the price is less than 5, print \"For less than a cup of coffee, buy now for _____\"\n",
    "#.   ii. Otherwise, if the price is less than 20, print \"Good value. Great products. Buy now for _____\"\n",
    "#.   iii. Otherwise, print \"You get what you pay for. Get the most. Buy now for ______\"\n",
    "\n",
    "if price  <= 5:\n",
    "    print(\"For less than a cup of coffee, buy now for $4.99\")\n",
    "elif price <= 20:\n",
    "    print(\"Good value. Great products. Buy now for $10\")\n",
    "else:\n",
    "    print(\"You get what you pay for, Get the most, Buy now for $25\")\n",
    "\n",
    "\n",
    "# D. Given this list of products, use a conditional to figure out which has the lower price.\n",
    "#.   Print a message saying \"Your best value is the _____ for only ______\"\n",
    "#.   Fill in the blanks with the name and price of the cheaper item, respectively\n",
    "bargain_bin = [\n",
    "    {\"name\": \"90s Comedy DVD\", \"price\": 2.99},\n",
    "    {\"name\": \"80s Drama DVD\", \"price\": 3.99}\n",
    "]\n",
    "\n",
    "lowprice = 2.99\n",
    "\n",
    "\n",
    "if bargain_bin[0][\"price\"] <= lowprice:\n",
    "    print(\"Your best value is the 90s Comedy DVD for only {}\" .format(lowprice, 'f'))\n",
    "elif bargain_bin[1][price] <= lowprice:\n",
    "    print(\"Your best value is the 80s Comedy DVD for only {}\" .format(lowprice, 'f'))\n",
    "\n",
    "\n",
    "\n",
    "\n",
    "\n",
    "\n"
   ]
  },
  {
   "cell_type": "code",
   "execution_count": 112,
   "metadata": {},
   "outputs": [
    {
     "name": "stdout",
     "output_type": "stream",
     "text": [
      "letter not a vowel\n",
      "you have lost\n"
     ]
    }
   ],
   "source": [
    "# 3.2 Complex Conditions\n",
    "# A. Write a conditional that determines whether the letter is a vowel\n",
    "#.Print a message stating \"___ is a vowel\" or \"___ is not a vowel\"\n",
    "letter = \"b\"\n",
    "vowels = \"a\", \"e\", \"i\", \"o\", \"u\"\n",
    "if letter in vowels:\n",
    "    print(\"letter is a vowel\")\n",
    "else:\n",
    "    print(\"letter not a vowel\")\n",
    "\n",
    "# B. Determine whether the player beat the computer at rock, paper, scissors\n",
    "#    As a reminder, \"rock\" beats \"paper\", \"paper\" beats \"scissors\", and \"scissors\" beats \"rock\"\n",
    "#.   Print a message saying whether the player won, lost, or tied\n",
    "\n",
    "player_choice = \"rock\"\n",
    "computer_choice = \"scissors\"\n",
    "if player_choice == computer_choice:\n",
    "    print(\"its a tie\")\n",
    "elif player_choice == \"rock\" and computer_choice == \"paper\":\n",
    "    print(\"you have won\")\n",
    "elif player_choice == \"paper\" and computer_choice == \"scissors\":\n",
    "    print(\"you have won\")\n",
    "elif player_choice == \"scissors\" and computer_choice == \"rock\":\n",
    "    print(\"you have won\")\n",
    "else:\n",
    "    print(\"you have lost\")\n",
    "  \n"
   ]
  },
  {
   "cell_type": "code",
   "execution_count": 110,
   "metadata": {},
   "outputs": [
    {
     "name": "stdout",
     "output_type": "stream",
     "text": [
      "Isosceles Triangle\n"
     ]
    }
   ],
   "source": [
    "# C. Write the code that determines if the triangle is:\n",
    "#      equalateral - all three sides are equal in length\n",
    "#      scalene - all three sides are unequal in length\n",
    "#      isosceles - two sides are the same length\n",
    "side_a = 5\n",
    "side_b = 7\n",
    "side_c = 5\n",
    "    \n",
    "if side_a == side_b == side_b == side_c:\n",
    "        print(\"Equilateral Triangle\")\n",
    "elif side_a == side_b or side_b == side_c or side_c == side_a:\n",
    "        print(\"Isosceles Triangle\")\n",
    "else:\n",
    "        print(\"Scalene Triangle\")"
   ]
  },
  {
   "cell_type": "code",
   "execution_count": 109,
   "metadata": {},
   "outputs": [
    {
     "name": "stdout",
     "output_type": "stream",
     "text": [
      "Sep 25 is in fall\n"
     ]
    }
   ],
   "source": [
    "# D. Calculate what season it is based upon this chart:\n",
    "#      Dec 21 - Mar 19: Winter\n",
    "#      Mar 20 - Jun 20: Spring\n",
    "#      Jun 21 - Sep 21: Summer\n",
    "#      Sep 22 - Dec 20: Fall\n",
    "# Print the result as follows:\n",
    "#      <Mmm> <dd> is in <season> \n",
    "\n",
    "month = \"Sep\"\n",
    "day = 25\n",
    "\n",
    "if month in (\"Dec\", \"Feb\", \"Mar\"):\n",
    "\tseason = \"winter\"\n",
    "elif month in (\"Mar\", \"May\", \"June\"):\n",
    "\tseason = \"spring\"\n",
    "elif month in (\"Jun\", \"Aug\", \"Sep\"):\n",
    "\tseason = \"summer\"\n",
    "elif month in (\"Sep\", \"Nov\", \"Dec\"):\n",
    "\tseason = \"fall\" \n",
    "\t\n",
    "if (month == \"Mar\") and (day > 19):\n",
    "\tseason = \"spring\"\n",
    "elif (month == \"Jun\") and (day > 20):\n",
    "\tseason = \"summer\"\n",
    "elif (month == \"Sep\") and (day > 21):\n",
    "\tseason = \"fall\"\n",
    "elif (month == \"Dec\") and (day > 20):\n",
    "\tseason = \"winter\"\n",
    "print(f\"{month} {day} is in\", season)\n"
   ]
  },
  {
   "cell_type": "code",
   "execution_count": 113,
   "metadata": {},
   "outputs": [
    {
     "name": "stdout",
     "output_type": "stream",
     "text": [
      "The boat is in a valid, productive state. Go boat!\n"
     ]
    }
   ],
   "source": [
    "# E. The Farmer's Boat\n",
    "boat = {\n",
    "    \"has_fox\": True,\n",
    "    \"has_chicken\": False,\n",
    "    \"has_grain\": True}\n",
    "\n",
    "\n",
    "scenario_a = \"has_fox\"\n",
    "scenario_b = \"has_chicken\"\n",
    "scenario_c = \"has_grain\"\n",
    "\n",
    "if scenario_a and scenario_b and scenario_c == True:\n",
    "    print(\"The boat was too heavy and sank\")\n",
    "elif scenario_a and scenario_b == True:\n",
    "    print(\"The fox ate the chicken\")\n",
    "elif scenario_b and scenario_c == True:\n",
    "    print(\"The Chicken ate the grain\")\n",
    "elif scenario_a and scenario_b and scenario_c == False:\n",
    "    print(\"The boat sank from disuse\")\n",
    "else:\n",
    "    print(\"The boat is in a valid, productive state. Go boat!\")\n"
   ]
  }
 ],
 "metadata": {
  "kernelspec": {
   "display_name": "Python 3.10.5 64-bit (windows store)",
   "language": "python",
   "name": "python3"
  },
  "language_info": {
   "codemirror_mode": {
    "name": "ipython",
    "version": 3
   },
   "file_extension": ".py",
   "mimetype": "text/x-python",
   "name": "python",
   "nbconvert_exporter": "python",
   "pygments_lexer": "ipython3",
   "version": "3.10.5"
  },
  "orig_nbformat": 4,
  "vscode": {
   "interpreter": {
    "hash": "7540359889c7e321c229492797f8275cf90e605fa95f66d3b025b1e90ad7f863"
   }
  }
 },
 "nbformat": 4,
 "nbformat_minor": 2
}
