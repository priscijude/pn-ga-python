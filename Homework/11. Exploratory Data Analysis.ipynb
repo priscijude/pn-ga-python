{
 "cells": [
  {
   "cell_type": "code",
   "execution_count": 1,
   "metadata": {},
   "outputs": [],
   "source": [
    "# 8.1 EDA Demonstration\n",
    "import pandas as pd\n",
    "import numpy as np\n",
    "import matplotlib.pyplot as plt\n",
    "\n",
    "%matplotlib inline"
   ]
  },
  {
   "cell_type": "code",
   "execution_count": 4,
   "metadata": {},
   "outputs": [
    {
     "data": {
      "text/html": [
       "<div>\n",
       "<style scoped>\n",
       "    .dataframe tbody tr th:only-of-type {\n",
       "        vertical-align: middle;\n",
       "    }\n",
       "\n",
       "    .dataframe tbody tr th {\n",
       "        vertical-align: top;\n",
       "    }\n",
       "\n",
       "    .dataframe thead th {\n",
       "        text-align: right;\n",
       "    }\n",
       "</style>\n",
       "<table border=\"1\" class=\"dataframe\">\n",
       "  <thead>\n",
       "    <tr style=\"text-align: right;\">\n",
       "      <th></th>\n",
       "      <th>order_id</th>\n",
       "      <th>order_date</th>\n",
       "      <th>ship_date</th>\n",
       "      <th>ship_mode</th>\n",
       "      <th>customer_id</th>\n",
       "      <th>product_id</th>\n",
       "      <th>sales</th>\n",
       "      <th>quantity</th>\n",
       "      <th>discount</th>\n",
       "      <th>profit</th>\n",
       "      <th>postal_code</th>\n",
       "      <th>region_id</th>\n",
       "    </tr>\n",
       "  </thead>\n",
       "  <tbody>\n",
       "    <tr>\n",
       "      <th>0</th>\n",
       "      <td>AE-2016-1308551</td>\n",
       "      <td>2016-09-28</td>\n",
       "      <td>2016-10-02</td>\n",
       "      <td>Second Class</td>\n",
       "      <td>PO-8865</td>\n",
       "      <td>OFF-FEL-10001405</td>\n",
       "      <td>82.67</td>\n",
       "      <td>2</td>\n",
       "      <td>0.30</td>\n",
       "      <td>0.30</td>\n",
       "      <td>NaN</td>\n",
       "      <td>9954.0</td>\n",
       "    </tr>\n",
       "    <tr>\n",
       "      <th>1</th>\n",
       "      <td>AE-2016-1522857</td>\n",
       "      <td>2016-09-04</td>\n",
       "      <td>2016-09-09</td>\n",
       "      <td>Standard Class</td>\n",
       "      <td>PO-8865</td>\n",
       "      <td>TEC-EPS-10004171</td>\n",
       "      <td>78.41</td>\n",
       "      <td>6</td>\n",
       "      <td>0.50</td>\n",
       "      <td>0.50</td>\n",
       "      <td>NaN</td>\n",
       "      <td>4792.0</td>\n",
       "    </tr>\n",
       "    <tr>\n",
       "      <th>2</th>\n",
       "      <td>AE-2016-184765</td>\n",
       "      <td>2016-10-03</td>\n",
       "      <td>2016-10-07</td>\n",
       "      <td>Second Class</td>\n",
       "      <td>PO-8865</td>\n",
       "      <td>OFF-FEL-10001405</td>\n",
       "      <td>82.67</td>\n",
       "      <td>2</td>\n",
       "      <td>0.30</td>\n",
       "      <td>0.30</td>\n",
       "      <td>NaN</td>\n",
       "      <td>19848.0</td>\n",
       "    </tr>\n",
       "    <tr>\n",
       "      <th>3</th>\n",
       "      <td>AE-2016-1878215</td>\n",
       "      <td>2016-09-15</td>\n",
       "      <td>2016-09-17</td>\n",
       "      <td>Standard Class</td>\n",
       "      <td>PO-8865</td>\n",
       "      <td>TEC-EPS-10004171</td>\n",
       "      <td>78.41</td>\n",
       "      <td>6</td>\n",
       "      <td>0.50</td>\n",
       "      <td>0.50</td>\n",
       "      <td>NaN</td>\n",
       "      <td>1410.0</td>\n",
       "    </tr>\n",
       "    <tr>\n",
       "      <th>4</th>\n",
       "      <td>AE-2016-218276</td>\n",
       "      <td>2016-10-09</td>\n",
       "      <td>2016-10-12</td>\n",
       "      <td>Standard Class</td>\n",
       "      <td>PO-8865</td>\n",
       "      <td>TEC-EPS-10004171</td>\n",
       "      <td>78.41</td>\n",
       "      <td>6</td>\n",
       "      <td>0.50</td>\n",
       "      <td>0.50</td>\n",
       "      <td>NaN</td>\n",
       "      <td>1826.0</td>\n",
       "    </tr>\n",
       "    <tr>\n",
       "      <th>...</th>\n",
       "      <td>...</td>\n",
       "      <td>...</td>\n",
       "      <td>...</td>\n",
       "      <td>...</td>\n",
       "      <td>...</td>\n",
       "      <td>...</td>\n",
       "      <td>...</td>\n",
       "      <td>...</td>\n",
       "      <td>...</td>\n",
       "      <td>...</td>\n",
       "      <td>...</td>\n",
       "      <td>...</td>\n",
       "    </tr>\n",
       "    <tr>\n",
       "      <th>999986</th>\n",
       "      <td>ZI-2020-495856</td>\n",
       "      <td>2020-01-04</td>\n",
       "      <td>2020-01-09</td>\n",
       "      <td>Second Class</td>\n",
       "      <td>JC-5775</td>\n",
       "      <td>OFF-AVE-10000543</td>\n",
       "      <td>1.16</td>\n",
       "      <td>1</td>\n",
       "      <td>0.17</td>\n",
       "      <td>0.09</td>\n",
       "      <td>NaN</td>\n",
       "      <td>3210.0</td>\n",
       "    </tr>\n",
       "    <tr>\n",
       "      <th>999987</th>\n",
       "      <td>ZI-2020-5409624</td>\n",
       "      <td>2020-01-13</td>\n",
       "      <td>2020-01-18</td>\n",
       "      <td>Second Class</td>\n",
       "      <td>JC-5775</td>\n",
       "      <td>OFF-AVE-10000543</td>\n",
       "      <td>1.16</td>\n",
       "      <td>1</td>\n",
       "      <td>0.17</td>\n",
       "      <td>0.09</td>\n",
       "      <td>NaN</td>\n",
       "      <td>3539.0</td>\n",
       "    </tr>\n",
       "    <tr>\n",
       "      <th>999988</th>\n",
       "      <td>ZI-2020-5478741</td>\n",
       "      <td>2020-01-10</td>\n",
       "      <td>2020-01-10</td>\n",
       "      <td>Standard Class</td>\n",
       "      <td>JC-5775</td>\n",
       "      <td>TEC-KON-10003116</td>\n",
       "      <td>71.64</td>\n",
       "      <td>2</td>\n",
       "      <td>0.32</td>\n",
       "      <td>0.23</td>\n",
       "      <td>NaN</td>\n",
       "      <td>3855.0</td>\n",
       "    </tr>\n",
       "    <tr>\n",
       "      <th>999989</th>\n",
       "      <td>ZI-2020-5986855</td>\n",
       "      <td>2020-01-08</td>\n",
       "      <td>2020-01-11</td>\n",
       "      <td>Standard Class</td>\n",
       "      <td>JC-5775</td>\n",
       "      <td>TEC-KON-10003116</td>\n",
       "      <td>71.64</td>\n",
       "      <td>2</td>\n",
       "      <td>0.32</td>\n",
       "      <td>0.23</td>\n",
       "      <td>NaN</td>\n",
       "      <td>783.0</td>\n",
       "    </tr>\n",
       "    <tr>\n",
       "      <th>999990</th>\n",
       "      <td>ZI-2020-863102</td>\n",
       "      <td>2020-01-22</td>\n",
       "      <td>2020-01-27</td>\n",
       "      <td>Standard Class</td>\n",
       "      <td>JM-5250</td>\n",
       "      <td>FUR-SAF-10002314</td>\n",
       "      <td>49.65</td>\n",
       "      <td>1</td>\n",
       "      <td>0.22</td>\n",
       "      <td>0.14</td>\n",
       "      <td>77095.0</td>\n",
       "      <td>1488.0</td>\n",
       "    </tr>\n",
       "  </tbody>\n",
       "</table>\n",
       "<p>999991 rows × 12 columns</p>\n",
       "</div>"
      ],
      "text/plain": [
       "               order_id  order_date   ship_date       ship_mode customer_id  \\\n",
       "0       AE-2016-1308551  2016-09-28  2016-10-02    Second Class     PO-8865   \n",
       "1       AE-2016-1522857  2016-09-04  2016-09-09  Standard Class     PO-8865   \n",
       "2        AE-2016-184765  2016-10-03  2016-10-07    Second Class     PO-8865   \n",
       "3       AE-2016-1878215  2016-09-15  2016-09-17  Standard Class     PO-8865   \n",
       "4        AE-2016-218276  2016-10-09  2016-10-12  Standard Class     PO-8865   \n",
       "...                 ...         ...         ...             ...         ...   \n",
       "999986   ZI-2020-495856  2020-01-04  2020-01-09    Second Class     JC-5775   \n",
       "999987  ZI-2020-5409624  2020-01-13  2020-01-18    Second Class     JC-5775   \n",
       "999988  ZI-2020-5478741  2020-01-10  2020-01-10  Standard Class     JC-5775   \n",
       "999989  ZI-2020-5986855  2020-01-08  2020-01-11  Standard Class     JC-5775   \n",
       "999990   ZI-2020-863102  2020-01-22  2020-01-27  Standard Class     JM-5250   \n",
       "\n",
       "              product_id  sales  quantity  discount  profit  postal_code  \\\n",
       "0       OFF-FEL-10001405  82.67         2      0.30    0.30          NaN   \n",
       "1       TEC-EPS-10004171  78.41         6      0.50    0.50          NaN   \n",
       "2       OFF-FEL-10001405  82.67         2      0.30    0.30          NaN   \n",
       "3       TEC-EPS-10004171  78.41         6      0.50    0.50          NaN   \n",
       "4       TEC-EPS-10004171  78.41         6      0.50    0.50          NaN   \n",
       "...                  ...    ...       ...       ...     ...          ...   \n",
       "999986  OFF-AVE-10000543   1.16         1      0.17    0.09          NaN   \n",
       "999987  OFF-AVE-10000543   1.16         1      0.17    0.09          NaN   \n",
       "999988  TEC-KON-10003116  71.64         2      0.32    0.23          NaN   \n",
       "999989  TEC-KON-10003116  71.64         2      0.32    0.23          NaN   \n",
       "999990  FUR-SAF-10002314  49.65         1      0.22    0.14      77095.0   \n",
       "\n",
       "        region_id  \n",
       "0          9954.0  \n",
       "1          4792.0  \n",
       "2         19848.0  \n",
       "3          1410.0  \n",
       "4          1826.0  \n",
       "...           ...  \n",
       "999986     3210.0  \n",
       "999987     3539.0  \n",
       "999988     3855.0  \n",
       "999989      783.0  \n",
       "999990     1488.0  \n",
       "\n",
       "[999991 rows x 12 columns]"
      ]
     },
     "execution_count": 4,
     "metadata": {},
     "output_type": "execute_result"
    }
   ],
   "source": [
    "# We will store the orders table csv data in a variable\n",
    "orders = pd.read_csv('orders.csv')\n",
    "orders\n",
    "\n",
    "\n",
    "# Tabs are used as the separating character in this file\n"
   ]
  },
  {
   "cell_type": "code",
   "execution_count": 53,
   "metadata": {},
   "outputs": [
    {
     "data": {
      "text/plain": [
       "<bound method DataFrame.info of                order id  order date   ship date       ship mode customer id  \\\n",
       "0       AE-2016-1308551  2016-09-28  2016-10-02    Second Class     PO-8865   \n",
       "1       AE-2016-1522857  2016-09-04  2016-09-09  Standard Class     PO-8865   \n",
       "2        AE-2016-184765  2016-10-03  2016-10-07    Second Class     PO-8865   \n",
       "3       AE-2016-1878215  2016-09-15  2016-09-17  Standard Class     PO-8865   \n",
       "4        AE-2016-218276  2016-10-09  2016-10-12  Standard Class     PO-8865   \n",
       "...                 ...         ...         ...             ...         ...   \n",
       "999986   ZI-2020-495856  2020-01-04  2020-01-09    Second Class     JC-5775   \n",
       "999987  ZI-2020-5409624  2020-01-13  2020-01-18    Second Class     JC-5775   \n",
       "999988  ZI-2020-5478741  2020-01-10  2020-01-10  Standard Class     JC-5775   \n",
       "999989  ZI-2020-5986855  2020-01-08  2020-01-11  Standard Class     JC-5775   \n",
       "999990   ZI-2020-863102  2020-01-22  2020-01-27  Standard Class     JM-5250   \n",
       "\n",
       "              product id  sales  quantity  discount  profit  postal code  \\\n",
       "0       OFF-FEL-10001405  82.67         2      0.30    0.30          NaN   \n",
       "1       TEC-EPS-10004171  78.41         6      0.50    0.50          NaN   \n",
       "2       OFF-FEL-10001405  82.67         2      0.30    0.30          NaN   \n",
       "3       TEC-EPS-10004171  78.41         6      0.50    0.50          NaN   \n",
       "4       TEC-EPS-10004171  78.41         6      0.50    0.50          NaN   \n",
       "...                  ...    ...       ...       ...     ...          ...   \n",
       "999986  OFF-AVE-10000543   1.16         1      0.17    0.09          NaN   \n",
       "999987  OFF-AVE-10000543   1.16         1      0.17    0.09          NaN   \n",
       "999988  TEC-KON-10003116  71.64         2      0.32    0.23          NaN   \n",
       "999989  TEC-KON-10003116  71.64         2      0.32    0.23          NaN   \n",
       "999990  FUR-SAF-10002314  49.65         1      0.22    0.14      77095.0   \n",
       "\n",
       "        region id  \n",
       "0          9954.0  \n",
       "1          4792.0  \n",
       "2         19848.0  \n",
       "3          1410.0  \n",
       "4          1826.0  \n",
       "...           ...  \n",
       "999986     3210.0  \n",
       "999987     3539.0  \n",
       "999988     3855.0  \n",
       "999989      783.0  \n",
       "999990     1488.0  \n",
       "\n",
       "[999991 rows x 12 columns]>"
      ]
     },
     "execution_count": 53,
     "metadata": {},
     "output_type": "execute_result"
    }
   ],
   "source": [
    "orders.info"
   ]
  },
  {
   "cell_type": "code",
   "execution_count": 9,
   "metadata": {
    "scrolled": false
   },
   "outputs": [
    {
     "data": {
      "text/html": [
       "<div>\n",
       "<style scoped>\n",
       "    .dataframe tbody tr th:only-of-type {\n",
       "        vertical-align: middle;\n",
       "    }\n",
       "\n",
       "    .dataframe tbody tr th {\n",
       "        vertical-align: top;\n",
       "    }\n",
       "\n",
       "    .dataframe thead th {\n",
       "        text-align: right;\n",
       "    }\n",
       "</style>\n",
       "<table border=\"1\" class=\"dataframe\">\n",
       "  <thead>\n",
       "    <tr style=\"text-align: right;\">\n",
       "      <th></th>\n",
       "      <th>order_id</th>\n",
       "      <th>order_date</th>\n",
       "      <th>ship_date</th>\n",
       "      <th>ship_mode</th>\n",
       "      <th>customer_id</th>\n",
       "      <th>product_id</th>\n",
       "      <th>sales</th>\n",
       "      <th>quantity</th>\n",
       "      <th>discount</th>\n",
       "      <th>profit</th>\n",
       "      <th>postal_code</th>\n",
       "      <th>region_id</th>\n",
       "    </tr>\n",
       "  </thead>\n",
       "  <tbody>\n",
       "    <tr>\n",
       "      <th>0</th>\n",
       "      <td>AE-2016-1308551</td>\n",
       "      <td>2016-09-28</td>\n",
       "      <td>2016-10-02</td>\n",
       "      <td>Second Class</td>\n",
       "      <td>PO-8865</td>\n",
       "      <td>OFF-FEL-10001405</td>\n",
       "      <td>82.67</td>\n",
       "      <td>2</td>\n",
       "      <td>0.3</td>\n",
       "      <td>0.3</td>\n",
       "      <td>NaN</td>\n",
       "      <td>9954.0</td>\n",
       "    </tr>\n",
       "  </tbody>\n",
       "</table>\n",
       "</div>"
      ],
      "text/plain": [
       "          order_id  order_date   ship_date     ship_mode customer_id  \\\n",
       "0  AE-2016-1308551  2016-09-28  2016-10-02  Second Class     PO-8865   \n",
       "\n",
       "         product_id  sales  quantity  discount  profit  postal_code  region_id  \n",
       "0  OFF-FEL-10001405  82.67         2       0.3     0.3          NaN     9954.0  "
      ]
     },
     "execution_count": 9,
     "metadata": {},
     "output_type": "execute_result"
    }
   ],
   "source": [
    "# Use the head method to investigate the first row of data\n",
    "orders.head(1)"
   ]
  },
  {
   "cell_type": "code",
   "execution_count": 12,
   "metadata": {},
   "outputs": [
    {
     "data": {
      "text/plain": [
       "order_id        object\n",
       "order_date      object\n",
       "ship_date       object\n",
       "ship_mode       object\n",
       "customer_id     object\n",
       "product_id      object\n",
       "sales          float64\n",
       "quantity         int64\n",
       "discount       float64\n",
       "profit         float64\n",
       "postal_code    float64\n",
       "region_id      float64\n",
       "dtype: object"
      ]
     },
     "execution_count": 12,
     "metadata": {},
     "output_type": "execute_result"
    }
   ],
   "source": [
    "# Create a dataframe to view the column names and data types\n",
    "orders.dtypes\n"
   ]
  },
  {
   "cell_type": "code",
   "execution_count": 11,
   "metadata": {},
   "outputs": [
    {
     "data": {
      "text/plain": [
       "(999991, 12)"
      ]
     },
     "execution_count": 11,
     "metadata": {},
     "output_type": "execute_result"
    }
   ],
   "source": [
    "# Use the shape attribute to determine the amount of rows and columns total\n",
    "orders.shape"
   ]
  },
  {
   "cell_type": "code",
   "execution_count": 13,
   "metadata": {},
   "outputs": [
    {
     "data": {
      "text/plain": [
       "Index(['order_id', 'order_date', 'ship_date', 'ship_mode', 'customer_id',\n",
       "       'product_id', 'sales', 'quantity', 'discount', 'profit', 'postal_code',\n",
       "       'region_id'],\n",
       "      dtype='object')"
      ]
     },
     "execution_count": 13,
     "metadata": {},
     "output_type": "execute_result"
    }
   ],
   "source": [
    "# Use the .columns property to list out the column names\n",
    "# Use the .index.name property to identify the index\n",
    "orders.columns\n",
    "\n",
    "\n"
   ]
  },
  {
   "cell_type": "code",
   "execution_count": 24,
   "metadata": {},
   "outputs": [
    {
     "data": {
      "text/plain": [
       "RangeIndex(start=0, stop=999991, step=1)"
      ]
     },
     "execution_count": 24,
     "metadata": {},
     "output_type": "execute_result"
    }
   ],
   "source": [
    "orders.index"
   ]
  },
  {
   "cell_type": "code",
   "execution_count": 27,
   "metadata": {},
   "outputs": [
    {
     "data": {
      "text/html": [
       "<div>\n",
       "<style scoped>\n",
       "    .dataframe tbody tr th:only-of-type {\n",
       "        vertical-align: middle;\n",
       "    }\n",
       "\n",
       "    .dataframe tbody tr th {\n",
       "        vertical-align: top;\n",
       "    }\n",
       "\n",
       "    .dataframe thead th {\n",
       "        text-align: right;\n",
       "    }\n",
       "</style>\n",
       "<table border=\"1\" class=\"dataframe\">\n",
       "  <thead>\n",
       "    <tr style=\"text-align: right;\">\n",
       "      <th></th>\n",
       "      <th>order id</th>\n",
       "      <th>order date</th>\n",
       "      <th>ship date</th>\n",
       "      <th>ship mode</th>\n",
       "      <th>customer id</th>\n",
       "      <th>product id</th>\n",
       "      <th>sales</th>\n",
       "      <th>quantity</th>\n",
       "      <th>discount</th>\n",
       "      <th>profit</th>\n",
       "      <th>postal code</th>\n",
       "      <th>region id</th>\n",
       "    </tr>\n",
       "  </thead>\n",
       "  <tbody>\n",
       "    <tr>\n",
       "      <th>0</th>\n",
       "      <td>AE-2016-1308551</td>\n",
       "      <td>2016-09-28</td>\n",
       "      <td>2016-10-02</td>\n",
       "      <td>Second Class</td>\n",
       "      <td>PO-8865</td>\n",
       "      <td>OFF-FEL-10001405</td>\n",
       "      <td>82.67</td>\n",
       "      <td>2</td>\n",
       "      <td>0.3</td>\n",
       "      <td>0.3</td>\n",
       "      <td>NaN</td>\n",
       "      <td>9954.0</td>\n",
       "    </tr>\n",
       "    <tr>\n",
       "      <th>1</th>\n",
       "      <td>AE-2016-1522857</td>\n",
       "      <td>2016-09-04</td>\n",
       "      <td>2016-09-09</td>\n",
       "      <td>Standard Class</td>\n",
       "      <td>PO-8865</td>\n",
       "      <td>TEC-EPS-10004171</td>\n",
       "      <td>78.41</td>\n",
       "      <td>6</td>\n",
       "      <td>0.5</td>\n",
       "      <td>0.5</td>\n",
       "      <td>NaN</td>\n",
       "      <td>4792.0</td>\n",
       "    </tr>\n",
       "    <tr>\n",
       "      <th>2</th>\n",
       "      <td>AE-2016-184765</td>\n",
       "      <td>2016-10-03</td>\n",
       "      <td>2016-10-07</td>\n",
       "      <td>Second Class</td>\n",
       "      <td>PO-8865</td>\n",
       "      <td>OFF-FEL-10001405</td>\n",
       "      <td>82.67</td>\n",
       "      <td>2</td>\n",
       "      <td>0.3</td>\n",
       "      <td>0.3</td>\n",
       "      <td>NaN</td>\n",
       "      <td>19848.0</td>\n",
       "    </tr>\n",
       "    <tr>\n",
       "      <th>3</th>\n",
       "      <td>AE-2016-1878215</td>\n",
       "      <td>2016-09-15</td>\n",
       "      <td>2016-09-17</td>\n",
       "      <td>Standard Class</td>\n",
       "      <td>PO-8865</td>\n",
       "      <td>TEC-EPS-10004171</td>\n",
       "      <td>78.41</td>\n",
       "      <td>6</td>\n",
       "      <td>0.5</td>\n",
       "      <td>0.5</td>\n",
       "      <td>NaN</td>\n",
       "      <td>1410.0</td>\n",
       "    </tr>\n",
       "    <tr>\n",
       "      <th>4</th>\n",
       "      <td>AE-2016-218276</td>\n",
       "      <td>2016-10-09</td>\n",
       "      <td>2016-10-12</td>\n",
       "      <td>Standard Class</td>\n",
       "      <td>PO-8865</td>\n",
       "      <td>TEC-EPS-10004171</td>\n",
       "      <td>78.41</td>\n",
       "      <td>6</td>\n",
       "      <td>0.5</td>\n",
       "      <td>0.5</td>\n",
       "      <td>NaN</td>\n",
       "      <td>1826.0</td>\n",
       "    </tr>\n",
       "  </tbody>\n",
       "</table>\n",
       "</div>"
      ],
      "text/plain": [
       "          order id  order date   ship date       ship mode customer id  \\\n",
       "0  AE-2016-1308551  2016-09-28  2016-10-02    Second Class     PO-8865   \n",
       "1  AE-2016-1522857  2016-09-04  2016-09-09  Standard Class     PO-8865   \n",
       "2   AE-2016-184765  2016-10-03  2016-10-07    Second Class     PO-8865   \n",
       "3  AE-2016-1878215  2016-09-15  2016-09-17  Standard Class     PO-8865   \n",
       "4   AE-2016-218276  2016-10-09  2016-10-12  Standard Class     PO-8865   \n",
       "\n",
       "         product id  sales  quantity  discount  profit  postal code  region id  \n",
       "0  OFF-FEL-10001405  82.67         2       0.3     0.3          NaN     9954.0  \n",
       "1  TEC-EPS-10004171  78.41         6       0.5     0.5          NaN     4792.0  \n",
       "2  OFF-FEL-10001405  82.67         2       0.3     0.3          NaN    19848.0  \n",
       "3  TEC-EPS-10004171  78.41         6       0.5     0.5          NaN     1410.0  \n",
       "4  TEC-EPS-10004171  78.41         6       0.5     0.5          NaN     1826.0  "
      ]
     },
     "execution_count": 27,
     "metadata": {},
     "output_type": "execute_result"
    }
   ],
   "source": [
    "# Provide a dictionary to the rename method to rename any columns\n",
    "# The inplace flag determines whether to modify the original dataframe\n",
    "orders.rename(columns={'order_id': 'order id', 'order_date':'order date',\n",
    "            'ship_date': 'ship date', 'ship_mode': 'ship mode', 'customer_id':'customer id', 'product_id':'product id', 'region_id':'region id', 'postal_code':'postal code' }, inplace=True)\n",
    "orders.head(5)"
   ]
  },
  {
   "cell_type": "code",
   "execution_count": 36,
   "metadata": {},
   "outputs": [
    {
     "data": {
      "text/plain": [
       "Index(['order date', 'ship date'], dtype='object')"
      ]
     },
     "execution_count": 36,
     "metadata": {},
     "output_type": "execute_result"
    }
   ],
   "source": [
    "# Explore columns with column attributes and methods\n",
    "column_label = orders.columns[1:3]\n",
    "column_label\n"
   ]
  },
  {
   "cell_type": "code",
   "execution_count": 37,
   "metadata": {},
   "outputs": [
    {
     "data": {
      "text/html": [
       "<div>\n",
       "<style scoped>\n",
       "    .dataframe tbody tr th:only-of-type {\n",
       "        vertical-align: middle;\n",
       "    }\n",
       "\n",
       "    .dataframe tbody tr th {\n",
       "        vertical-align: top;\n",
       "    }\n",
       "\n",
       "    .dataframe thead th {\n",
       "        text-align: right;\n",
       "    }\n",
       "</style>\n",
       "<table border=\"1\" class=\"dataframe\">\n",
       "  <thead>\n",
       "    <tr style=\"text-align: right;\">\n",
       "      <th></th>\n",
       "      <th>sales</th>\n",
       "      <th>quantity</th>\n",
       "      <th>discount</th>\n",
       "      <th>profit</th>\n",
       "      <th>postal code</th>\n",
       "      <th>region id</th>\n",
       "    </tr>\n",
       "  </thead>\n",
       "  <tbody>\n",
       "    <tr>\n",
       "      <th>count</th>\n",
       "      <td>999991.000000</td>\n",
       "      <td>999991.000000</td>\n",
       "      <td>999991.000000</td>\n",
       "      <td>999991.000000</td>\n",
       "      <td>192888.000000</td>\n",
       "      <td>999795.000000</td>\n",
       "    </tr>\n",
       "    <tr>\n",
       "      <th>mean</th>\n",
       "      <td>245.885888</td>\n",
       "      <td>3.477444</td>\n",
       "      <td>0.247224</td>\n",
       "      <td>1.658624</td>\n",
       "      <td>55348.941095</td>\n",
       "      <td>6370.559013</td>\n",
       "    </tr>\n",
       "    <tr>\n",
       "      <th>std</th>\n",
       "      <td>481.540695</td>\n",
       "      <td>2.285502</td>\n",
       "      <td>0.137232</td>\n",
       "      <td>39.977661</td>\n",
       "      <td>32145.458536</td>\n",
       "      <td>10456.510728</td>\n",
       "    </tr>\n",
       "    <tr>\n",
       "      <th>min</th>\n",
       "      <td>0.440000</td>\n",
       "      <td>1.000000</td>\n",
       "      <td>0.000000</td>\n",
       "      <td>-6599.980000</td>\n",
       "      <td>1040.000000</td>\n",
       "      <td>38.000000</td>\n",
       "    </tr>\n",
       "    <tr>\n",
       "      <th>25%</th>\n",
       "      <td>30.680000</td>\n",
       "      <td>2.000000</td>\n",
       "      <td>0.130000</td>\n",
       "      <td>0.100000</td>\n",
       "      <td>23320.000000</td>\n",
       "      <td>2125.000000</td>\n",
       "    </tr>\n",
       "    <tr>\n",
       "      <th>50%</th>\n",
       "      <td>84.780000</td>\n",
       "      <td>3.000000</td>\n",
       "      <td>0.250000</td>\n",
       "      <td>0.200000</td>\n",
       "      <td>57103.000000</td>\n",
       "      <td>3688.000000</td>\n",
       "    </tr>\n",
       "    <tr>\n",
       "      <th>75%</th>\n",
       "      <td>250.740000</td>\n",
       "      <td>5.000000</td>\n",
       "      <td>0.350000</td>\n",
       "      <td>0.290000</td>\n",
       "      <td>90049.000000</td>\n",
       "      <td>5636.000000</td>\n",
       "    </tr>\n",
       "    <tr>\n",
       "      <th>max</th>\n",
       "      <td>22638.480000</td>\n",
       "      <td>14.000000</td>\n",
       "      <td>0.670000</td>\n",
       "      <td>8399.980000</td>\n",
       "      <td>99301.000000</td>\n",
       "      <td>98923.000000</td>\n",
       "    </tr>\n",
       "  </tbody>\n",
       "</table>\n",
       "</div>"
      ],
      "text/plain": [
       "               sales       quantity       discount         profit  \\\n",
       "count  999991.000000  999991.000000  999991.000000  999991.000000   \n",
       "mean      245.885888       3.477444       0.247224       1.658624   \n",
       "std       481.540695       2.285502       0.137232      39.977661   \n",
       "min         0.440000       1.000000       0.000000   -6599.980000   \n",
       "25%        30.680000       2.000000       0.130000       0.100000   \n",
       "50%        84.780000       3.000000       0.250000       0.200000   \n",
       "75%       250.740000       5.000000       0.350000       0.290000   \n",
       "max     22638.480000      14.000000       0.670000    8399.980000   \n",
       "\n",
       "         postal code      region id  \n",
       "count  192888.000000  999795.000000  \n",
       "mean    55348.941095    6370.559013  \n",
       "std     32145.458536   10456.510728  \n",
       "min      1040.000000      38.000000  \n",
       "25%     23320.000000    2125.000000  \n",
       "50%     57103.000000    3688.000000  \n",
       "75%     90049.000000    5636.000000  \n",
       "max     99301.000000   98923.000000  "
      ]
     },
     "execution_count": 37,
     "metadata": {},
     "output_type": "execute_result"
    }
   ],
   "source": [
    "#Methods ends with parentheses, while attributes don’t\n",
    "#.shape: Attribute\n",
    "#.info(): Method\n",
    "\n",
    "\n",
    "orders.describe()\n"
   ]
  },
  {
   "cell_type": "code",
   "execution_count": 59,
   "metadata": {},
   "outputs": [
    {
     "data": {
      "text/plain": [
       "0         OFF-FEL-10001405\n",
       "1         TEC-EPS-10004171\n",
       "2         OFF-FEL-10001405\n",
       "3         TEC-EPS-10004171\n",
       "4         TEC-EPS-10004171\n",
       "                ...       \n",
       "999986    OFF-AVE-10000543\n",
       "999987    OFF-AVE-10000543\n",
       "999988    TEC-KON-10003116\n",
       "999989    TEC-KON-10003116\n",
       "999990    FUR-SAF-10002314\n",
       "Name: product id, Length: 999991, dtype: object"
      ]
     },
     "execution_count": 59,
     "metadata": {},
     "output_type": "execute_result"
    }
   ],
   "source": [
    "orders['product id']\n"
   ]
  },
  {
   "cell_type": "code",
   "execution_count": 51,
   "metadata": {},
   "outputs": [
    {
     "data": {
      "text/plain": [
       "1502"
      ]
     },
     "execution_count": 51,
     "metadata": {},
     "output_type": "execute_result"
    }
   ],
   "source": [
    "orders['ship date'].nunique()  # number of unique values\n",
    "\n"
   ]
  },
  {
   "cell_type": "code",
   "execution_count": 52,
   "metadata": {},
   "outputs": [
    {
     "data": {
      "text/plain": [
       "12.96     1363\n",
       "25.92      924\n",
       "19.44      778\n",
       "17.52      744\n",
       "32.40      732\n",
       "          ... \n",
       "5.03         1\n",
       "184.95       1\n",
       "825.12       1\n",
       "242.03       1\n",
       "157.84       1\n",
       "Name: sales, Length: 20057, dtype: int64"
      ]
     },
     "execution_count": 52,
     "metadata": {},
     "output_type": "execute_result"
    }
   ],
   "source": [
    "orders['sales'].value_counts()  # number of occurrences of each value in column\n"
   ]
  },
  {
   "cell_type": "code",
   "execution_count": null,
   "metadata": {},
   "outputs": [],
   "source": [
    "# 8.2 Exploring a new dataset\n",
    "# Import the products.csv dataset and explore the following questions:\n",
    "import pandas as pd\n",
    "import numpy as np\n",
    "import matplotlib.pyplot as plt\n"
   ]
  },
  {
   "cell_type": "code",
   "execution_count": 55,
   "metadata": {},
   "outputs": [
    {
     "data": {
      "text/html": [
       "<div>\n",
       "<style scoped>\n",
       "    .dataframe tbody tr th:only-of-type {\n",
       "        vertical-align: middle;\n",
       "    }\n",
       "\n",
       "    .dataframe tbody tr th {\n",
       "        vertical-align: top;\n",
       "    }\n",
       "\n",
       "    .dataframe thead th {\n",
       "        text-align: right;\n",
       "    }\n",
       "</style>\n",
       "<table border=\"1\" class=\"dataframe\">\n",
       "  <thead>\n",
       "    <tr style=\"text-align: right;\">\n",
       "      <th></th>\n",
       "      <th>product_id</th>\n",
       "      <th>category</th>\n",
       "      <th>sub_category</th>\n",
       "      <th>product_name</th>\n",
       "      <th>product_cost_to_consumer</th>\n",
       "    </tr>\n",
       "  </thead>\n",
       "  <tbody>\n",
       "    <tr>\n",
       "      <th>0</th>\n",
       "      <td>FUR-ADV-10000002</td>\n",
       "      <td>Furniture</td>\n",
       "      <td>Furnishings</td>\n",
       "      <td>Advantus Photo Frame, Duo Pack</td>\n",
       "      <td>53.04</td>\n",
       "    </tr>\n",
       "    <tr>\n",
       "      <th>1</th>\n",
       "      <td>FUR-ADV-10000108</td>\n",
       "      <td>Furniture</td>\n",
       "      <td>Furnishings</td>\n",
       "      <td>Advantus Clock, Erganomic</td>\n",
       "      <td>50.01</td>\n",
       "    </tr>\n",
       "    <tr>\n",
       "      <th>2</th>\n",
       "      <td>FUR-ADV-10000183</td>\n",
       "      <td>Furniture</td>\n",
       "      <td>Furnishings</td>\n",
       "      <td>Advantus Photo Frame, Black</td>\n",
       "      <td>15.89</td>\n",
       "    </tr>\n",
       "    <tr>\n",
       "      <th>3</th>\n",
       "      <td>FUR-ADV-10000188</td>\n",
       "      <td>Furniture</td>\n",
       "      <td>Furnishings</td>\n",
       "      <td>Advantus Stacking Tray, Erganomic</td>\n",
       "      <td>24.99</td>\n",
       "    </tr>\n",
       "    <tr>\n",
       "      <th>4</th>\n",
       "      <td>FUR-ADV-10000190</td>\n",
       "      <td>Furniture</td>\n",
       "      <td>Furnishings</td>\n",
       "      <td>Advantus Frame, Duo Pack</td>\n",
       "      <td>111.18</td>\n",
       "    </tr>\n",
       "    <tr>\n",
       "      <th>...</th>\n",
       "      <td>...</td>\n",
       "      <td>...</td>\n",
       "      <td>...</td>\n",
       "      <td>...</td>\n",
       "      <td>...</td>\n",
       "    </tr>\n",
       "    <tr>\n",
       "      <th>10287</th>\n",
       "      <td>TEC-STA-10004181</td>\n",
       "      <td>Technology</td>\n",
       "      <td>Machines</td>\n",
       "      <td>StarTech Inkjet, Durable</td>\n",
       "      <td>300.18</td>\n",
       "    </tr>\n",
       "    <tr>\n",
       "      <th>10288</th>\n",
       "      <td>TEC-STA-10004536</td>\n",
       "      <td>Technology</td>\n",
       "      <td>Machines</td>\n",
       "      <td>StarTech Inkjet, Wireless</td>\n",
       "      <td>301.77</td>\n",
       "    </tr>\n",
       "    <tr>\n",
       "      <th>10289</th>\n",
       "      <td>TEC-STA-10004542</td>\n",
       "      <td>Technology</td>\n",
       "      <td>Machines</td>\n",
       "      <td>StarTech Calculator, Durable</td>\n",
       "      <td>40.08</td>\n",
       "    </tr>\n",
       "    <tr>\n",
       "      <th>10290</th>\n",
       "      <td>TEC-STA-10004834</td>\n",
       "      <td>Technology</td>\n",
       "      <td>Machines</td>\n",
       "      <td>StarTech Receipt Printer, Red</td>\n",
       "      <td>32.32</td>\n",
       "    </tr>\n",
       "    <tr>\n",
       "      <th>10291</th>\n",
       "      <td>TEC-STA-10004927</td>\n",
       "      <td>Technology</td>\n",
       "      <td>Machines</td>\n",
       "      <td>StarTech Receipt Printer, Wireless</td>\n",
       "      <td>110.58</td>\n",
       "    </tr>\n",
       "  </tbody>\n",
       "</table>\n",
       "<p>10292 rows × 5 columns</p>\n",
       "</div>"
      ],
      "text/plain": [
       "             product_id    category sub_category  \\\n",
       "0      FUR-ADV-10000002   Furniture  Furnishings   \n",
       "1      FUR-ADV-10000108   Furniture  Furnishings   \n",
       "2      FUR-ADV-10000183   Furniture  Furnishings   \n",
       "3      FUR-ADV-10000188   Furniture  Furnishings   \n",
       "4      FUR-ADV-10000190   Furniture  Furnishings   \n",
       "...                 ...         ...          ...   \n",
       "10287  TEC-STA-10004181  Technology     Machines   \n",
       "10288  TEC-STA-10004536  Technology     Machines   \n",
       "10289  TEC-STA-10004542  Technology     Machines   \n",
       "10290  TEC-STA-10004834  Technology     Machines   \n",
       "10291  TEC-STA-10004927  Technology     Machines   \n",
       "\n",
       "                             product_name  product_cost_to_consumer  \n",
       "0          Advantus Photo Frame, Duo Pack                     53.04  \n",
       "1               Advantus Clock, Erganomic                     50.01  \n",
       "2             Advantus Photo Frame, Black                     15.89  \n",
       "3       Advantus Stacking Tray, Erganomic                     24.99  \n",
       "4                Advantus Frame, Duo Pack                    111.18  \n",
       "...                                   ...                       ...  \n",
       "10287            StarTech Inkjet, Durable                    300.18  \n",
       "10288           StarTech Inkjet, Wireless                    301.77  \n",
       "10289        StarTech Calculator, Durable                     40.08  \n",
       "10290       StarTech Receipt Printer, Red                     32.32  \n",
       "10291  StarTech Receipt Printer, Wireless                    110.58  \n",
       "\n",
       "[10292 rows x 5 columns]"
      ]
     },
     "execution_count": 55,
     "metadata": {},
     "output_type": "execute_result"
    }
   ],
   "source": [
    "products = pd.read_csv('products.csv')\n",
    "products\n"
   ]
  },
  {
   "cell_type": "code",
   "execution_count": 56,
   "metadata": {
    "scrolled": false
   },
   "outputs": [
    {
     "data": {
      "text/plain": [
       "Index(['product_id', 'category', 'sub_category', 'product_name',\n",
       "       'product_cost_to_consumer'],\n",
       "      dtype='object')"
      ]
     },
     "execution_count": 56,
     "metadata": {},
     "output_type": "execute_result"
    }
   ],
   "source": [
    "# A. What are the columns and index: do they suggest any relationship to other tables?\n",
    "products.columns\n"
   ]
  },
  {
   "cell_type": "code",
   "execution_count": 57,
   "metadata": {},
   "outputs": [
    {
     "data": {
      "text/plain": [
       "RangeIndex(start=0, stop=10292, step=1)"
      ]
     },
     "execution_count": 57,
     "metadata": {},
     "output_type": "execute_result"
    }
   ],
   "source": [
    "products.index"
   ]
  },
  {
   "cell_type": "code",
   "execution_count": null,
   "metadata": {},
   "outputs": [],
   "source": [
    "# B. How many rows of data are there?\n",
    "#10292 rows"
   ]
  },
  {
   "cell_type": "code",
   "execution_count": 62,
   "metadata": {},
   "outputs": [
    {
     "data": {
      "text/plain": [
       "0        FUR-ADV-10000002\n",
       "1        FUR-ADV-10000108\n",
       "2        FUR-ADV-10000183\n",
       "3        FUR-ADV-10000188\n",
       "4        FUR-ADV-10000190\n",
       "               ...       \n",
       "10287    TEC-STA-10004181\n",
       "10288    TEC-STA-10004536\n",
       "10289    TEC-STA-10004542\n",
       "10290    TEC-STA-10004834\n",
       "10291    TEC-STA-10004927\n",
       "Name: product_id, Length: 10292, dtype: object"
      ]
     },
     "execution_count": 62,
     "metadata": {},
     "output_type": "execute_result"
    }
   ],
   "source": [
    "#products table is different from the order table\n",
    "products['product_id']\n"
   ]
  },
  {
   "cell_type": "code",
   "execution_count": 58,
   "metadata": {},
   "outputs": [
    {
     "data": {
      "text/plain": [
       "product_id                   object\n",
       "category                     object\n",
       "sub_category                 object\n",
       "product_name                 object\n",
       "product_cost_to_consumer    float64\n",
       "dtype: object"
      ]
     },
     "execution_count": 58,
     "metadata": {},
     "output_type": "execute_result"
    }
   ],
   "source": [
    "# C. What are the types of each column?\n",
    "products.dtypes\n"
   ]
  },
  {
   "cell_type": "code",
   "execution_count": null,
   "metadata": {},
   "outputs": [],
   "source": [
    "# 8.3 Boolean Filtering\n",
    "# Let's return to the orders dataset for the rest of the challenges\n",
    "# Use boolean filtering and DataFrame/DataSeries methods to solve the following challanges:"
   ]
  },
  {
   "cell_type": "code",
   "execution_count": 134,
   "metadata": {},
   "outputs": [
    {
     "data": {
      "text/plain": [
       "<bound method NDFrame._add_numeric_operations.<locals>.mean of 0         0.30\n",
       "2         0.30\n",
       "5         0.30\n",
       "8         0.30\n",
       "9         0.30\n",
       "          ... \n",
       "999978    0.09\n",
       "999980    0.09\n",
       "999982    0.09\n",
       "999986    0.09\n",
       "999987    0.09\n",
       "Name: profit, Length: 335758, dtype: float64>"
      ]
     },
     "execution_count": 134,
     "metadata": {},
     "output_type": "execute_result"
    }
   ],
   "source": [
    "# A. What is the mean profit of orders where the ship_mode is \"Second Class\"\n",
    "\n",
    "df2 = orders[orders['ship mode'] == 'Second Class']['profit']\n",
    "df2\n",
    "\n",
    "\n",
    "\n"
   ]
  },
  {
   "cell_type": "code",
   "execution_count": 135,
   "metadata": {},
   "outputs": [
    {
     "data": {
      "text/plain": [
       "1.0517047992899646"
      ]
     },
     "execution_count": 135,
     "metadata": {},
     "output_type": "execute_result"
    }
   ],
   "source": [
    "df2.mean()"
   ]
  },
  {
   "cell_type": "code",
   "execution_count": 155,
   "metadata": {},
   "outputs": [
    {
     "data": {
      "text/html": [
       "<div>\n",
       "<style scoped>\n",
       "    .dataframe tbody tr th:only-of-type {\n",
       "        vertical-align: middle;\n",
       "    }\n",
       "\n",
       "    .dataframe tbody tr th {\n",
       "        vertical-align: top;\n",
       "    }\n",
       "\n",
       "    .dataframe thead th {\n",
       "        text-align: right;\n",
       "    }\n",
       "</style>\n",
       "<table border=\"1\" class=\"dataframe\">\n",
       "  <thead>\n",
       "    <tr style=\"text-align: right;\">\n",
       "      <th></th>\n",
       "      <th>order id</th>\n",
       "      <th>order date</th>\n",
       "      <th>ship date</th>\n",
       "      <th>ship mode</th>\n",
       "      <th>customer id</th>\n",
       "      <th>product id</th>\n",
       "      <th>sales</th>\n",
       "      <th>quantity</th>\n",
       "      <th>discount</th>\n",
       "      <th>profit</th>\n",
       "      <th>postal code</th>\n",
       "      <th>region id</th>\n",
       "    </tr>\n",
       "  </thead>\n",
       "  <tbody>\n",
       "  </tbody>\n",
       "</table>\n",
       "</div>"
      ],
      "text/plain": [
       "Empty DataFrame\n",
       "Columns: [order id, order date, ship date, ship mode, customer id, product id, sales, quantity, discount, profit, postal code, region id]\n",
       "Index: []"
      ]
     },
     "execution_count": 155,
     "metadata": {},
     "output_type": "execute_result"
    }
   ],
   "source": [
    "# B. Which product is the most commonly ordered on 2017-06-08 \n",
    "orders['product id'].value_counts\n",
    "df1 = orders[orders['product id'] == 2017-6-8]\n",
    "df1\n",
    "\n"
   ]
  },
  {
   "cell_type": "code",
   "execution_count": null,
   "metadata": {},
   "outputs": [],
   "source": [
    "# 8.4 Sorting and Filtering"
   ]
  },
  {
   "cell_type": "code",
   "execution_count": null,
   "metadata": {},
   "outputs": [],
   "source": [
    "# A. What are the three most profitable orders purchased by customer PO-8865?\n"
   ]
  },
  {
   "cell_type": "code",
   "execution_count": null,
   "metadata": {},
   "outputs": [],
   "source": [
    "# B. What are the five orders of product_id TEC-HEW-10002304 with the highest quanitity?\n"
   ]
  },
  {
   "cell_type": "markdown",
   "metadata": {},
   "source": [
    "## Recap\n",
    "\n",
    "We covered a lot of ground! It's ok if this takes a while to gel.\n",
    "\n",
    "```python\n",
    "\n",
    "# basic DataFrame operations\n",
    "df.head()\n",
    "df.tail()\n",
    "df.shape\n",
    "df.columns\n",
    "df.Index\n",
    "\n",
    "# selecting columns\n",
    "df.column_name\n",
    "df['column_name']\n",
    "\n",
    "# renaming columns\n",
    "df.rename({'old_name':'new_name'}, inplace=True)\n",
    "df.columns = ['new_column_a', 'new_column_b']\n",
    "\n",
    "# notable columns operations\n",
    "df.describe() # five number summary\n",
    "df['col1'].nunique() # number of unique values\n",
    "df['col1'].value_counts() # number of occurrences of each value in column\n",
    "\n",
    "# filtering\n",
    "df[ df['col1'] < 50 ] # filter column to be less than 50\n",
    "df[ (df['col1'] == value1) & (df['col2'] > value2) ] # filter column where col1 is equal to value1 AND col2 is greater to value 2\n",
    "\n",
    "# sorting\n",
    "df.sort_values(by='column_name', ascending = False) # sort biggest to smallest\n",
    "\n",
    "```\n",
    "\n",
    "\n",
    "It's common to refer back to your own code *all the time.* Don't hesistate to reference this guide! 🐼\n",
    "\n",
    "\n"
   ]
  }
 ],
 "metadata": {
  "kernelspec": {
   "display_name": "Python 3.10.5 64-bit (windows store)",
   "language": "python",
   "name": "python3"
  },
  "language_info": {
   "codemirror_mode": {
    "name": "ipython",
    "version": 3
   },
   "file_extension": ".py",
   "mimetype": "text/x-python",
   "name": "python",
   "nbconvert_exporter": "python",
   "pygments_lexer": "ipython3",
   "version": "3.10.5"
  },
  "vscode": {
   "interpreter": {
    "hash": "7540359889c7e321c229492797f8275cf90e605fa95f66d3b025b1e90ad7f863"
   }
  }
 },
 "nbformat": 4,
 "nbformat_minor": 4
}
