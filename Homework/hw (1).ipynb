{
 "cells": [
  {
   "cell_type": "code",
   "execution_count": null,
   "metadata": {},
   "outputs": [],
   "source": [
    "#Define a class BankAccount\n",
    "#A BankAccount has an id, an account_number, a name (the person who owns the account), and a balance\n",
    "#The opening balance of the account is 0\n",
    "class BankAccount:\n",
    "    def __init__(self,):\n",
    "\n",
    "        #implement the init method\n",
    "        pass\n",
    "#Implement deposit and withdraw methods for the BankAccount class\n",
    "#We dont allow overdrafts for our accounts, so remember to check that\n",
    "#You have a sufficient balance when you are doing a withdrawal\n",
    "\n",
    "#Implement the __repr__ method to display the id, account_number, name, and balance for an account"
   ]
  },
  {
   "cell_type": "code",
   "execution_count": 5,
   "metadata": {},
   "outputs": [
    {
     "name": "stdout",
     "output_type": "stream",
     "text": [
      "Your Account is Created.\n",
      "Your New Balance =600\n",
      "Your Remaining Balance =200\n",
      "Your Balance =200\n",
      "kay\t123\t24\t200\t\n"
     ]
    }
   ],
   "source": [
    "\n",
    "class Bankaccount:\n",
    "    def __init__(self, name, id, account_number):\n",
    "        self.name = name\n",
    "        self.id = id\n",
    "        self.account_number = account_number \n",
    "        self.balance = 0\n",
    "    print('Your Account is Created.')\n",
    "    \n",
    "    def deposit(self):\n",
    "        amount = int(input('Enter the amount to deposit:'))\n",
    "        self.balance += amount\n",
    "        print('Your New Balance =%d' % self.balance)\n",
    "    \n",
    "    def withdraw(self):\n",
    "        amount = int(input('Enter the amount to withdraw:'))\n",
    "        if(amount > self.balance):\n",
    "            print('Insufficient Balance!')\n",
    "        else:\n",
    "            self.balance -= amount\n",
    "            print('Your Remaining Balance =%d' % self.balance)\n",
    "    \n",
    "    def enquiry(self):\n",
    "        print('Your Balance =%d' % self.balance)\n",
    "\n",
    "    def __repr__(self):\n",
    "        return f\"{self.name}\\t{self.id}\\t{self.account_number}\\t{self.balance}\\t\"\n",
    "\n",
    "b = Bankaccount('kay', '123', '24')\n",
    "b.deposit()\n",
    "b.withdraw()\n",
    "b.enquiry()\n",
    "b.balance\n",
    "\n",
    "print(b)\n",
    "\n",
    "\n",
    "\n",
    "\n",
    "\n",
    "\n",
    "\n",
    "\n",
    "\n",
    "\n",
    "\t\n",
    "\n",
    "\t\n"
   ]
  },
  {
   "cell_type": "code",
   "execution_count": 23,
   "metadata": {},
   "outputs": [
    {
     "name": "stdout",
     "output_type": "stream",
     "text": [
      "[(1, 0, 'Lisa'), (2, 100, 'Carol'), (3, 200, 'Carol'), (4, 300, 'John'), (5, 400, 'Carol'), (6, 500, 'James'), (7, 600, 'Henry'), (8, 700, 'Amy'), (9, 800, 'Carol'), (10, 900, 'John'), (11, 1000, 'Amy'), (12, 1100, 'John'), (13, 1200, 'Lisa'), (14, 1300, 'Lisa'), (15, 1400, 'Henry'), (16, 1500, 'Lisa'), (17, 1600, 'John'), (18, 1700, 'Amy'), (19, 1800, 'John'), (20, 1900, 'James'), (21, 2000, 'Amy')]\n"
     ]
    }
   ],
   "source": [
    "#Create ten BankAccount objects and insert them into a list\n",
    "#We want to send out an email to all the bank account holders\n",
    "#Write a function get_eligible_accounts, that takes the list of accounnts\n",
    "# and a target_balance and returns a new list with only those accounts\n",
    "#that have a balance greater than a target_balance\n",
    "\n",
    "def generate_accounts(n):\n",
    "  data = []\n",
    "  names = ['John', 'Henry', 'Carol', 'Lisa', 'James', 'Amy'] \n",
    "  for i in range(n + 1):\n",
    "    #create account, add to a list\n",
    "    import random\n",
    "    bank_accounts = (i + 1, i * 100, random.choice(names))\n",
    "    a = bank_accounts\n",
    "    data.append(a)\n",
    "  return data\n",
    "  \n",
    "account_list = generate_accounts(20)\n",
    "print(account_list)\n"
   ]
  },
  {
   "cell_type": "code",
   "execution_count": 44,
   "metadata": {},
   "outputs": [],
   "source": [
    "#Define a class Flight that we will use to track an airline flight\n",
    "# and all the bookings we have\n",
    "#The Fight class has flight_number, origin, destination, capacity\n",
    "\n",
    "class Flight:\n",
    "    def __init__(self, flight_number, origin, destination, capacity):\n",
    "        self.flight_number = flight_number\n",
    "        self.origin = origin\n",
    "        self.destination = destination\n",
    "        self.capacity = capacity\n",
    "        self.bookings = []\n",
    "#define a book method that books the flight\n",
    "#the book method must decrese the capacity of the flight \n",
    "#by 1 each time it is called\n",
    "    def book(self, customer):\n",
    "        #add customer to bookings\n",
    "        if type(customer) is Customer:\n",
    "            self.bookings.append(customer)\n",
    "            self.capacity -= 1\n",
    "        else:\n",
    "            #raise an error\n",
    "            raise TypeError (f'Invalid type. Expected Customer,got {type(customer)}')\n",
    "\n",
    "    def get_bookings(self):\n",
    "        return self.bookings\n",
    "\n",
    "\n",
    "#define the __repr__ method that prints out a flight's number, origin, and destination\n",
    "    def __repr__ (self):\n",
    "        return f\"Flight #: {self.flight_number} from: {self.origin} To: {self.destination}\"\n",
    "\n",
    "\n"
   ]
  },
  {
   "cell_type": "code",
   "execution_count": 41,
   "metadata": {},
   "outputs": [],
   "source": [
    "#Lets build on the airline application.\n",
    "#Create a customer class. Each cutomer has an id, name, age, sex\n",
    "#Modify your book method to accept a customer.\n",
    "#Add this customer to a bookings list in your Flight class (modify your Flight class to have a bookings list)\n",
    "#Make sure that we can only insert a Customer object in our bookings list, and not  other data type\n",
    "#implement a method get_bookings to display the id, name, age, and sex of all\n",
    "#the customers that have been booked on the flight\n",
    "\n",
    "\n",
    "class Customer:\n",
    "    def __init__(self, id, name, age, sex):\n",
    "        self.id = id\n",
    "        self.name = name\n",
    "        self.age = age\n",
    "        self.sex = sex\n",
    "\n",
    "    def __repr__(self):\n",
    "        return f\"{self.id}\\t{self.name}\\t{self.age}\\t{self.sex}\\t\"\n"
   ]
  },
  {
   "cell_type": "code",
   "execution_count": 46,
   "metadata": {},
   "outputs": [
    {
     "name": "stdout",
     "output_type": "stream",
     "text": [
      "Flight #: AC102 from: YVR To: MSP\n",
      "100\tNan Kin\t45\tM\t\n",
      "[100\tNan Kin\t45\tM\t]\n"
     ]
    }
   ],
   "source": [
    "#create a flight\n",
    "f = Flight('AC102', 'YVR', 'MSP', 300)\n",
    "print(f)\n",
    "c = Customer(100, 'Nan Kin', 45, 'M')\n",
    "print(c)\n",
    "f.book(c)\n",
    "print(f.get_bookings())\n"
   ]
  },
  {
   "cell_type": "code",
   "execution_count": null,
   "metadata": {},
   "outputs": [],
   "source": []
  }
 ],
 "metadata": {
  "kernelspec": {
   "display_name": "Python 3.10.5 64-bit (windows store)",
   "language": "python",
   "name": "python3"
  },
  "language_info": {
   "codemirror_mode": {
    "name": "ipython",
    "version": 3
   },
   "file_extension": ".py",
   "mimetype": "text/x-python",
   "name": "python",
   "nbconvert_exporter": "python",
   "pygments_lexer": "ipython3",
   "version": "3.10.5"
  },
  "orig_nbformat": 4,
  "vscode": {
   "interpreter": {
    "hash": "7540359889c7e321c229492797f8275cf90e605fa95f66d3b025b1e90ad7f863"
   }
  }
 },
 "nbformat": 4,
 "nbformat_minor": 2
}
