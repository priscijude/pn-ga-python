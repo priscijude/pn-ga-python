{
 "cells": [
  {
   "cell_type": "code",
   "execution_count": 5,
   "metadata": {},
   "outputs": [],
   "source": [
    "# 2.1 Colors of the Rainbow\n",
    "# A. Make a list called colors that stores 7 strings, each a color of the rainbow\n",
    "\n",
    "# B. Then, print the following string, using list indices to access the specific colors:\n",
    "# \"The colors of the rainbow are red, orange, yellow, green, blue, indigo, and violet\"\n",
    "#  String concatenation might get a bit complex to read: try using an f-string for string interpolation!\n",
    "\n",
    "# C. Change two of the colors to more descriptive names, such as \"Lightning Yellow\" or \"Deep Sea Blue\"\n",
    "\n",
    "# D. Print the two new color names using list indices to access them\n",
    "\n",
    "# E. Print the colors variable to see the difference between printing a specific item and printing the list itself"
   ]
  },
  {
   "cell_type": "code",
   "execution_count": 12,
   "metadata": {},
   "outputs": [
    {
     "name": "stdout",
     "output_type": "stream",
     "text": [
      "The colors of the rainbow are red yellow blue green indigo orange and violet\n",
      "The colors of the rainbow are red, yellow, blue, green, indigo, orange, and violet\n",
      "my favourite colors are : wine red and leaf green.\n"
     ]
    }
   ],
   "source": [
    "colors = [\"red\", \"yellow\", \"blue\", \"green\", \"indigo\", \"orange\", \"violet\"]\n",
    "colors_position = colors[0], colors[1], colors[2], colors[3], colors[4], colors[5], colors[6]\n",
    "print(\"The colors of the rainbow are \" + colors[0], colors[1], colors[2], colors[3], colors[4], colors[5] + \" and \" + colors[6]\n",
    ")\n",
    "print(f\"The colors of the rainbow are {colors[0]}, {colors[1]}, {colors[2]}, {colors[3]}, {colors[4]}, {colors[5]}, and {colors[6]}\")\n",
    "\n",
    "\n",
    "colors[0] = \"wine red\" \n",
    "colors[3] = \"leaf green\"\n",
    "print(f\"my favourite colors are : {colors[0]} and {colors[3]}.\")\n",
    "\n",
    "\n",
    "\n",
    "\n",
    "\n",
    "\n"
   ]
  },
  {
   "cell_type": "code",
   "execution_count": 16,
   "metadata": {},
   "outputs": [
    {
     "name": "stdout",
     "output_type": "stream",
     "text": [
      "Your son, Boris is indexed at position two on our list\n",
      "['Alyce', 'Desean', 'Boris', 'Diego']\n"
     ]
    }
   ],
   "source": [
    "# 2.2 The Wait List\n",
    "# You will have to research some new methods to use for these challenges\n",
    "# You can use print statements to investigate whether your changes have succeeded as expected\n",
    "candidates = [\"Alice\", \"Boris\", \"Carmen\"]\n",
    "\n",
    "# A. A promising new applicant, Diego, needs to be added to the end of the list\n",
    "candidates.append(\"Diego\")\n",
    "\n",
    "# B. Alice has informed us of a typo on their application: change their name to \"Alyce\"\n",
    "candidates[0] = \"Alyce\"\n",
    "\n",
    "# C. One of our generous donors has a nephew, Aaron, who should be added to the very front of the list\n",
    "candidates.insert(0,\"Aaron\")\n",
    "\n",
    "# D. Boris's parents are concerned. Use the .index() method to print a message explaining Boris's place in the list\n",
    "print(f\"Your son, {candidates[2]} is indexed at position two on our list\")\n",
    "\n",
    "# E. Carmen is upset by the priority given to relatives of donors, and has withdrawn their application.\n",
    "#Use the .remove() method to remove them from the list.\n",
    "candidates.remove(\"Carmen\")\n",
    "\n",
    "# F. Use a method to remove the very first student in the list, as they have now been accepted!\n",
    "candidates.pop(0)\n",
    "\n",
    "# G. DeSean has submitted an impressive personal statement. Place them at index 1 by using .insert()\n",
    "candidates.insert(1, \"Desean\")\n",
    "\n",
    "# H. We've been audited by the Board for Educational Fairness! Print the list of candidates.\n",
    "#    It should look like this: [\"Alyce\", \"DeSean\", Boris\", \"Diego\"]\n",
    "print(candidates)"
   ]
  },
  {
   "cell_type": "code",
   "execution_count": 33,
   "metadata": {},
   "outputs": [
    {
     "name": "stdout",
     "output_type": "stream",
     "text": [
      "This 3 bedroom house costs 750000\n",
      "1100.0\n",
      "This lovely home sells only at $1100.0 per square foot!\n",
      "{'address': '123 Fake Street', 'price': 825000.0, 'bedrooms': 3, 'zip_code': '95404', 'sqft': 750, 'status': 'sold'}\n"
     ]
    }
   ],
   "source": [
    "# 2.3 Key Value Properties\n",
    "# Use the house dictionary for the following challenges\n",
    "house = { \"address\": \"123 Fake Street\", \"price\": 750000, \"bedrooms\": 3}\n",
    "\n",
    "# A. Buyers can't find the house without a zip code! Add a zip_code property equal to \"95404\"\n",
    "house [\"zip_code\"] = \"95404\"\n",
    "\n",
    "# B. Our web designers want a statement reading: \"This 3 bedroom house costs 250000\"\n",
    "#    Print that statement by accessing the values from the dictionary: do NOT \"hard-code\" the string!\n",
    "print(f\"This {house['bedrooms']} bedroom house costs {house['price']}\")\n",
    "\n",
    "# C. We're getting a lot of interest in the house! Let's increase the price by 10%\n",
    "house[\"price\"] = house[\"price\"] + house[\"price\"] / 10\n",
    "\n",
    "# D. Buyers are surprised at how small the house is. Let's add a square_feet property equal to 750\n",
    "house[\"sqft\"] = 750\n",
    "\n",
    "# E. We want to show off the value per foot. Print a message explaining the price per square foot.\n",
    "value_per_sqft = house[\"price\"]/house[\"sqft\"]\n",
    "print(value_per_sqft)\n",
    "print(f\"This lovely home sells only at ${value_per_sqft} per square foot!\")\n",
    "\n",
    "# F. After 2 long hours on the market, the house has finally sold! Add a status property equal to \"sold\"\n",
    "house[\"status\"] = \"sold\" \n",
    "\n",
    "# G. Print the entire listing. You should see a dictionary similar to the following:\n",
    "# {address: \"123 Fake Street\", price: 825000, bedrooms: 3, zip_code: \"95404\" square_feet: 750, status: \"sold\"}\n",
    "print(house)"
   ]
  }
 ],
 "metadata": {
  "kernelspec": {
   "display_name": "Python 3.10.5 64-bit (windows store)",
   "language": "python",
   "name": "python3"
  },
  "language_info": {
   "codemirror_mode": {
    "name": "ipython",
    "version": 3
   },
   "file_extension": ".py",
   "mimetype": "text/x-python",
   "name": "python",
   "nbconvert_exporter": "python",
   "pygments_lexer": "ipython3",
   "version": "3.10.5"
  },
  "orig_nbformat": 4,
  "vscode": {
   "interpreter": {
    "hash": "7540359889c7e321c229492797f8275cf90e605fa95f66d3b025b1e90ad7f863"
   }
  }
 },
 "nbformat": 4,
 "nbformat_minor": 2
}
