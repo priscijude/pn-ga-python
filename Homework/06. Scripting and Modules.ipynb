{
 "cells": [
  {
   "cell_type": "code",
   "execution_count": null,
   "metadata": {},
   "outputs": [],
   "source": [
    "# 6.1 Games of Chance\n",
    "import random\n",
    "# A. Simulate flipping a coin 100 times, then print the percentage of results that were \"heads\"\n",
    "\n",
    "#We need a way for us to do the same stuff (gennerate random number 0,1 X100) => for loop that loops 100 times (or N times)\n",
    "count_head = 0\n",
    "count_tail = 0\n",
    "for i in range(100):\n",
    "    #Within the loop, we need a counter to account for how many times we are flipping heads and tails\n",
    "    flip_outcome = random.randint(0,1)\n",
    "    if flip_outcome == 0: #head\n",
    "        count_head = count_head + 1\n",
    "    else:\n",
    "        count_tail = count_tail + 1\n",
    "\n",
    "#Outside loop, we need a calculator to find out the percentage of results that were head \n",
    "perc_head = count_head/100\n",
    "print(perc_head)\n"
   ]
  },
  {
   "cell_type": "code",
   "execution_count": null,
   "metadata": {},
   "outputs": [],
   "source": [
    "#x = ['ariel','ammar','kerry','israel']\n"
   ]
  },
  {
   "cell_type": "code",
   "execution_count": null,
   "metadata": {},
   "outputs": [],
   "source": [
    "# B. Randomly choose an element until you choose \"yellow\", incrememting flips each time\n",
    "#    Print a message each time including how many flips have been executed and what the result was\n",
    "import random\n",
    "\n",
    "flip = 0\n",
    "blue = 0\n",
    "sides = [\"blue\", \"blue\", \"blue\", \"blue\", \"yellow\", \"blue\"]\n",
    "\n",
    "while ('yellow' != color_outcome):    \n",
    "    flip_outcome = random.randint(0,5)\n",
    "    color_outcome = sides[flip_outcome]\n",
    "    flip = flip + 1\n",
    "    print(f'{sides[flip_outcome]}')\n",
    "\n"
   ]
  },
  {
   "cell_type": "code",
   "execution_count": null,
   "metadata": {},
   "outputs": [],
   "source": [
    "# C. Simulate a slot machine with the following rules:\n",
    "#    i. Each turn, the player loses 1 point and three random elements are chosen\n",
    "#    ii. If the three elements are all the same, the player wins 2 points\n",
    "#    iii. If all three elements are different, the player wins 5 points\n",
    "#    Continue taking turns until the player has 0 points or more than 10 points\n",
    "#    Each turn, print a message describing the outcome of the machine\n",
    "elements = [\"red\", \"green\", \"blue\"]\n",
    "player_points = 7"
   ]
  },
  {
   "cell_type": "code",
   "execution_count": 10,
   "metadata": {},
   "outputs": [
    {
     "name": "stdout",
     "output_type": "stream",
     "text": [
      "Space Needle has lat 47.620520000000056 and lon of -122.34928999999994\n"
     ]
    }
   ],
   "source": [
    "# 6.2 GeoCoder Road Trip\n",
    "destinations = [\"Space Needle\",\n",
    "                \"Crater Lake\",\n",
    "                \"Golden Gate Bridge\",\n",
    "                \"Yosemite National Park\",\n",
    "                \"Las Vegas, Nevada\",\n",
    "                \"Grand Canyon National Park\",\n",
    "                \"Aspen, Colorado\",\n",
    "                \"Mount Rushmore\",\n",
    "                \"Yellowstone National Park\",\n",
    "                \"Sandpoint, Idaho\",\n",
    "                \"Banff National Park\",\n",
    "                \"Capilano Suspension Bridge\"]\n",
    "\n",
    "# A. Install and import the geocoder library: https://geocoder.readthedocs.io/index.html\n",
    "#    Then, print a statement describing the latitude and longitude of our first destination, Space Needle\n",
    "\n",
    "import geocoder\n",
    "i = 0\n",
    "location_0 = geocoder.arcgis(destinations[i])\n",
    "print(f'{destinations[i]} has lat {location_0.lat} and lon of {location_0.lng}')\n",
    "\n"
   ]
  },
  {
   "cell_type": "code",
   "execution_count": 29,
   "metadata": {},
   "outputs": [
    {
     "name": "stdout",
     "output_type": "stream",
     "text": [
      "''''hello\n"
     ]
    }
   ],
   "source": []
  },
  {
   "cell_type": "code",
   "execution_count": null,
   "metadata": {},
   "outputs": [],
   "source": [
    "# B. Find the farthest south destination (the result with the lowest latitude)"
   ]
  },
  {
   "cell_type": "code",
   "execution_count": null,
   "metadata": {},
   "outputs": [],
   "source": [
    "# C. For each destination, describe the direction being traveled from the previous destination\n",
    "#    Hint: You can keep track of where we are using current_lat and current_lng variables\n",
    "#    If the next destination has a greater latitude, it means we're going North\n",
    "#    If the next destination has a greater longitude, it means we're going West\n",
    "#    Print a message in the following format: \"Next, we travel SouthWest to XXXXX\""
   ]
  },
  {
   "cell_type": "code",
   "execution_count": null,
   "metadata": {},
   "outputs": [],
   "source": [
    "# 6.3 So Much To Do\n",
    "# Reading code can be just as important as writing code!\n",
    "# Add a comment to each line of this python script, attempting to explain what it does\n",
    "\n",
    "with open(\"./to_do_list.txt\", \"a+\") as file:\n",
    "    print(\"Welcome to ToDoVille! Here are your items:\")\n",
    "    file.seek(0)\n",
    "    lines = file.readlines()\n",
    "    for line in lines:\n",
    "        print(line)\n",
    "    current_command = \"\"\n",
    "    while(current_command != \"q\"):\n",
    "        current_command = input(\"Awaiting further commands. [q] to quit, [a] to add new item, [p] to print list: \")\n",
    "        if(current_command == \"a\"):\n",
    "            new_item = input(\"Type your todo below: \")\n",
    "            file.write(new_item + \"\\n\")\n",
    "        elif(current_command == \"p\"):\n",
    "            file.seek(0)\n",
    "            lines = file.readlines()\n",
    "            for line in lines:\n",
    "                print(line)"
   ]
  },
  {
   "cell_type": "code",
   "execution_count": null,
   "metadata": {},
   "outputs": [],
   "source": [
    "# 6.4 Writing to CSV\n",
    "employees = [\n",
    "  {\n",
    "    \"first_name\": \"Hennah\", \n",
    "    \"last_name\": \"Chadwick\",\n",
    "    \"job_title\": \"Vice President\",\n",
    "    \"hire_date\": 1985,\n",
    "    \"performance_review\": \"excellent\"\n",
    "  }, {\n",
    "    \"first_name\": \"Michael\", \n",
    "    \"last_name\": \"Bolton\",\n",
    "    \"job_title\": \"Programmer\",\n",
    "    \"hire_date\": 1995,\n",
    "    \"performance_review\": \"poor\"\n",
    "  }, {\n",
    "    \"first_name\": \"Ellesse\", \n",
    "    \"last_name\": \"Jaramillo\",\n",
    "    \"job_title\": \"Programmer\",\n",
    "    \"hire_date\": 1989,\n",
    "    \"performance_review\": \"poor\"\n",
    "  }, {\n",
    "    \"first_name\": \"Samir\", \n",
    "    \"last_name\": \"Nagheenanajar\",\n",
    "    \"job_title\": \"Programmer\",\n",
    "    \"hire_date\": 1974,\n",
    "    \"performance_review\": \"fair\"\n",
    "  }, {\n",
    "    \"first_name\": \"Milton\", \n",
    "    \"last_name\": \"Waddams\",\n",
    "    \"job_title\": \"Collator\",\n",
    "    \"hire_date\": 1974,\n",
    "    \"performance_review\": \"does he even work here?\"\n",
    "  }, {\n",
    "    \"first_name\": \"Bob\", \n",
    "    \"last_name\": \"Porter\",\n",
    "    \"job_title\": \"Consultant\",\n",
    "    \"hire_date\": 1999,\n",
    "    \"performance_review\": \"excellent\"\n",
    "  }, {\n",
    "    \"first_name\": \"Bob\", \n",
    "    \"last_name\": \"Slydell\",\n",
    "    \"job_title\": \"Consultant\",\n",
    "    \"hire_date\": 1999,\n",
    "    \"performance_review\": \"excellent\"\n",
    "  }\n",
    "]\n",
    "# A. Write the above list of dictionaries to a csv file\n",
    "#    Include a column named \"action_item\" with the following logic:\n",
    "#    If the performance_review is \"poor\" the action_item should be \"terminate\"\n",
    "#    If the performance_review is \"excellent\" the action_item should be \"bonus\"\n",
    "#    Otherwise, the action_item should be \"attend GA workshop\""
   ]
  },
  {
   "cell_type": "code",
   "execution_count": null,
   "metadata": {},
   "outputs": [],
   "source": [
    "# 6.5 Stretch Goal: Ultimate RPS Challenge\n",
    "# Complete the following game to create csv records of each round's results\n",
    "import random\n",
    "import csv\n",
    "import os\n",
    "choices = [\"rock\", \"paper\", \"scissors\"]\n",
    "headings = [\"player_choice\", \"computer_choice\", \"result\"]\n",
    "\n",
    "# This is the logic to create the results csv if it doesn't exist already\n",
    "if not os.path.exists(\"./rock_paper_scissors_results.csv\"):\n",
    "    with open(\"./rock_paper_scissors_results.csv\", \"w\") as file:\n",
    "        # A. Use csv.DictWriter to write the headings into the file\n",
    "        \n",
    "def store_result(player_choice, computer_choice, result, file):\n",
    "    # B. This function should write game results to the csv file using csv.DictWriter\n",
    "        \n",
    "with open(\"./rock_paper_scissors_results.csv\", \"a+\") as file:\n",
    "    current_choice = \"\"\n",
    "    print(\"Welcome to the arena of RPS!\")\n",
    "    while(current_choice != \"q\"):\n",
    "        # C. Solicit the user's input of the three choices. Include a choice to hit q to quit as well.\n",
    "        \n",
    "        # D. Set a variable named computer_choice equal to a random choice from the choices list\n",
    "\n",
    "        if(current_choice == \"rock\"):\n",
    "            if(computer_choice == \"paper\"):\n",
    "                store_result(current_choice, computer_choice, \"loss\", file)\n",
    "            elif(computer_choice == \"scissors\"):\n",
    "                store_result(current_choice, computer_choice, \"win\", file)\n",
    "            else:\n",
    "                store_result(current_choice, computer_choice, \"tie\", file)\n",
    "        elif(current_choice == \"paper\"):\n",
    "            if(computer_choice == \"scissors\"):\n",
    "                store_result(current_choice, computer_choice, \"loss\", file)\n",
    "            elif(computer_choice == \"rock\"):\n",
    "                store_result(current_choice, computer_choice, \"win\", file)\n",
    "            else:\n",
    "                store_result(current_choice, computer_choice, \"tie\", file)\n",
    "        elif(current_choice == \"scissors\"):\n",
    "            if(computer_choice == \"rock\"):\n",
    "                store_result(current_choice, computer_choice, \"loss\", file)\n",
    "            elif(computer_choice == \"paper\"):\n",
    "                store_result(current_choice, computer_choice, \"win\", file)\n",
    "            else:\n",
    "                store_result(current_choice, computer_choice, \"tie\", file)\n",
    "        elif(current_choice != \"q\"):\n",
    "            print(\"Invalid choice! Try again.\")\n",
    "            \n",
    "\n",
    "with open(\"./rock_paper_scissors_results.csv\", \"r\") as file:\n",
    "    wins = 0\n",
    "    losses = 0\n",
    "    # E. Analyze the csv of results by counting how many wins and losses there have been using csv.DictReader\n",
    "    #    Print a message listing the total wins and losses in the csv\n"
   ]
  }
 ],
 "metadata": {
  "kernelspec": {
   "display_name": "Python 3 (ipykernel)",
   "language": "python",
   "name": "python3"
  },
  "language_info": {
   "codemirror_mode": {
    "name": "ipython",
    "version": 3
   },
   "file_extension": ".py",
   "mimetype": "text/x-python",
   "name": "python",
   "nbconvert_exporter": "python",
   "pygments_lexer": "ipython3",
   "version": "3.7.4"
  }
 },
 "nbformat": 4,
 "nbformat_minor": 4
}
