{
 "cells": [
  {
   "cell_type": "code",
   "execution_count": 52,
   "metadata": {},
   "outputs": [
    {
     "name": "stdout",
     "output_type": "stream",
     "text": [
      "100\n",
      "99\n",
      "98\n",
      "97\n",
      "96\n",
      "95\n",
      "94\n",
      "93\n",
      "92\n",
      "91\n",
      "90\n",
      "89\n",
      "88\n",
      "87\n",
      "86\n",
      "85\n",
      "84\n",
      "83\n",
      "82\n",
      "81\n",
      "80\n",
      "79\n",
      "78\n",
      "77\n",
      "76\n",
      "75\n",
      "74\n",
      "73\n",
      "72\n",
      "71\n",
      "70\n",
      "69\n",
      "68\n",
      "67\n",
      "66\n",
      "65\n",
      "64\n",
      "63\n",
      "62\n",
      "61\n",
      "60\n",
      "59\n",
      "58\n",
      "57\n",
      "56\n",
      "55\n",
      "54\n",
      "53\n",
      "52\n",
      "51\n",
      "50\n",
      "49\n",
      "48\n",
      "47\n",
      "46\n",
      "45\n",
      "44\n",
      "43\n",
      "42\n",
      "41\n",
      "40\n",
      "39\n",
      "38\n",
      "37\n",
      "36\n",
      "35\n",
      "34\n",
      "33\n",
      "32\n",
      "31\n",
      "30\n",
      "29\n",
      "28\n",
      "27\n",
      "26\n",
      "25\n",
      "24\n",
      "23\n",
      "22\n",
      "21\n",
      "20\n",
      "19\n",
      "18\n",
      "17\n",
      "16\n",
      "15\n",
      "14\n",
      "13\n",
      "12\n",
      "11\n",
      "10\n",
      "9\n",
      "8\n",
      "7\n",
      "6\n",
      "5\n",
      "4\n",
      "3\n",
      "2\n",
      "1\n"
     ]
    }
   ],
   "source": [
    "# 4.1 While Loops\n",
    "# Use while loops to solve the following challenges\n",
    "# A. Count down from 100 to 0 with a loop, including a print statement\n",
    "num = 100\n",
    "while num > 0:\n",
    "    print(num)\n",
    "    num -= 1\n",
    "\n"
   ]
  },
  {
   "cell_type": "code",
   "execution_count": 5,
   "metadata": {},
   "outputs": [
    {
     "name": "stdout",
     "output_type": "stream",
     "text": [
      "aaaaaaaaaaaaaaaaaaaa\n"
     ]
    }
   ],
   "source": [
    "# B. Construct a string consisting of 20 \"a\" characters in a row\n",
    "string = 'a' * 20\n",
    "print(string)\n",
    "             \n",
    "\n",
    "    \n",
    "    \n"
   ]
  },
  {
   "cell_type": "code",
   "execution_count": 14,
   "metadata": {},
   "outputs": [
    {
     "name": "stdout",
     "output_type": "stream",
     "text": [
      "1000\n",
      "990\n",
      "980\n",
      "970\n",
      "960\n",
      "950\n"
     ]
    }
   ],
   "source": [
    "#C. Bring down the price variable by increments of 10 until it is lower than the acceptable_price\n",
    "price = 1000\n",
    "acceptable_price = 954\n",
    "for i in range (1000, 940, -10):\n",
    "        print(i)"
   ]
  },
  {
   "cell_type": "code",
   "execution_count": 19,
   "metadata": {},
   "outputs": [
    {
     "name": "stdout",
     "output_type": "stream",
     "text": [
      "bike\n",
      "mess\n",
      "['bike', 'generator', 'mess', 'mess', 'tools', 'car', 'mess']\n",
      "generator\n",
      "mess\n",
      "['bike', 'generator', 'mess', 'tools', 'car', 'mess']\n",
      "mess\n",
      "['bike', 'generator', 'tools', 'car', 'mess']\n",
      "tools\n",
      "car\n",
      "mess\n",
      "['bike', 'generator', 'tools', 'car']\n"
     ]
    }
   ],
   "source": [
    "# D. Spring cleaning: remove all instances of \"mess\" from the garage_contents list\n",
    "#    Hint: Use the in operator to check if \"mess\" is still in the list, and .remove() to get rid of it\n",
    "garage = [\"bike\", \"mess\", \"generator\", \"mess\", \"mess\", \"tools\", \"car\", \"mess\"]\n",
    "for i in garage[:]:\n",
    "    print(i)\n",
    "    if i == \"mess\":\n",
    "        garage.remove(i)\n",
    "        print(garage)\n",
    "\n"
   ]
  },
  {
   "cell_type": "code",
   "execution_count": 24,
   "metadata": {},
   "outputs": [
    {
     "name": "stdout",
     "output_type": "stream",
     "text": [
      "2\n",
      "3\n",
      "5\n",
      "8\n"
     ]
    }
   ],
   "source": [
    "# A. Print through each number in the numbers list\n",
    "num = [2,3,5,8]\n",
    "for num in num:\n",
    "    print(num)"
   ]
  },
  {
   "cell_type": "code",
   "execution_count": 32,
   "metadata": {},
   "outputs": [
    {
     "name": "stdout",
     "output_type": "stream",
     "text": [
      "2\n",
      "5\n",
      "10\n",
      "18\n"
     ]
    }
   ],
   "source": [
    "# B. Add each of the numbers to the sum_total variable.\n",
    "sum_total = 0\n",
    "num = [2,3,5,8]\n",
    "for num in num:\n",
    "    sum_total += num\n",
    "    print(sum_total)\n"
   ]
  },
  {
   "cell_type": "code",
   "execution_count": 34,
   "metadata": {},
   "outputs": [
    {
     "name": "stdout",
     "output_type": "stream",
     "text": [
      "even\n",
      "even\n"
     ]
    }
   ],
   "source": [
    "# C. Print the message \"even\" for each number that divides evenly by 2\n",
    "#    Hint: The modulus symbol, %, gives you the remainder when dividing two numbers\n",
    "\n",
    "num = [2,3,5,8]\n",
    "\n",
    "for num in num:\n",
    "    if num % 2 == 0:\n",
    "        print(\"even\")\n"
   ]
  },
  {
   "cell_type": "code",
   "execution_count": 37,
   "metadata": {},
   "outputs": [
    {
     "name": "stdout",
     "output_type": "stream",
     "text": [
      "1\n",
      "2\n"
     ]
    }
   ],
   "source": [
    "# D. Count how many even numbers there are by adding 1 to count for each even number\n",
    "even_count = 0\n",
    "num = [2,3,5,8]\n",
    "\n",
    "# iterating each number in list\n",
    "for num in num:\n",
    "# checking condition\n",
    "    if num % 2 == 0:\n",
    "        even_count += 1\n",
    "        print(even_count)\n",
    "        \n",
    "\n"
   ]
  },
  {
   "cell_type": "code",
   "execution_count": null,
   "metadata": {},
   "outputs": [],
   "source": [
    "# 4.3 List Comprehension\n",
    "# Use list comprehension to generate new lists for these challenges"
   ]
  },
  {
   "cell_type": "code",
   "execution_count": 48,
   "metadata": {},
   "outputs": [
    {
     "name": "stdout",
     "output_type": "stream",
     "text": [
      "['simon says jump', 'simon says duck', 'simon says touch your toes']\n"
     ]
    }
   ],
   "source": [
    "# A. Add \"simon says \" to all strings in this list\n",
    "commands = [\"jump\", \"duck\", \"touch your toes\"]\n",
    "\n",
    "#for idx in range(len(commands)):\n",
    "    #commands[idx] = \"simon says \"  +  commands[idx]\n",
    "    #print(commands)\n",
    "    #or\n",
    "\n",
    "commands = [\"simon says \" +  idx for idx in commands ]\n",
    "print(commands)\n",
    "    "
   ]
  },
  {
   "cell_type": "code",
   "execution_count": 60,
   "metadata": {},
   "outputs": [
    {
     "name": "stdout",
     "output_type": "stream",
     "text": [
      "500.15\n",
      "125.15\n"
     ]
    }
   ],
   "source": [
    "# B. Add 15% to each number above 100, and don't include other numbers\n",
    "prices = [75, 500, 125, 20, 43]\n",
    "\n",
    "for idx in prices:\n",
    "    if idx >= 100:\n",
    "        idx += 0.15\n",
    "        print(idx)\n",
    "        \n",
    "        "
   ]
  },
  {
   "cell_type": "code",
   "execution_count": null,
   "metadata": {},
   "outputs": [],
   "source": [
    "# 4.4 Hold on to Your Loops\n",
    "# Use any variety of loop for the following challenges"
   ]
  },
  {
   "cell_type": "code",
   "execution_count": 74,
   "metadata": {},
   "outputs": [
    {
     "name": "stdout",
     "output_type": "stream",
     "text": [
      "Anoushka !\n",
      "Becky !\n",
      "Mehreen !\n",
      "A !\n",
      "n !\n",
      "o !\n",
      "u !\n",
      "s !\n",
      "h !\n",
      "k !\n",
      "a !\n",
      "B !\n",
      "e !\n",
      "c !\n",
      "k !\n",
      "y !\n",
      "M !\n",
      "e !\n",
      "h !\n",
      "r !\n",
      "e !\n",
      "e !\n",
      "n !\n",
      "Gooooooooo Anoushka !\n",
      "Gooooooooo Becky !\n",
      "Gooooooooo Mehreen !\n"
     ]
    }
   ],
   "source": [
    "# A. As a superfan, you want to chant each of the player's names in the following format:\n",
    "#    1. Spell out their name with a separate print statement for each letter, followed by an exclamation point\n",
    "#    2. Then, print the message \"Goooo _______!\" by inserting the full name in the blank\n",
    "players = [\"Anoushka\", \"Becky\", \"Mehreen\"]\n",
    "\n",
    "for idx in players:\n",
    "    print(f\"{idx} !\")\n",
    "for idx in players[0]:\n",
    "    print(f\"{idx} !\")\n",
    "for idx in players [1]:\n",
    "    print(f\"{idx} !\")\n",
    "for idx in players [2]:\n",
    "    print(f\"{idx} !\")\n",
    "\n",
    "for idx in players:\n",
    "    print(f\"Gooooooooo {idx} !\")\n",
    "\n",
    "\n",
    "\n",
    "\n",
    "\n",
    "\n",
    "\n",
    "\n",
    "\n",
    "\n",
    "\n",
    "\n"
   ]
  },
  {
   "cell_type": "code",
   "execution_count": 99,
   "metadata": {},
   "outputs": [
    {
     "name": "stdout",
     "output_type": "stream",
     "text": [
      "Don Manuel has the following flavors\n",
      "Gitwe Washed has the following flavors\n",
      "['cocoa', 'lime', 'cinnamon']\n",
      "['grapefruit', 'hibiscus', 'honey']\n"
     ]
    }
   ],
   "source": [
    "# B. Customers want to know the flavors of each coffee. Use separate print statements in the following format:\n",
    "#    First, print \"_______ has the following flavors\" using the coffee name in the blank\n",
    "#    Then, print each flavor inside the coffee's flavor list\n",
    "coffee_blends = [\n",
    "    {\"name\": \"Don Manuel\", \"flavors\": [\"cocoa\", \"lime\", \"cinnamon\"]},\n",
    "    {\"name\": \"Gitwe Washed\", \"flavors\": [\"grapefruit\", \"hibiscus\", \"honey\"]}\n",
    "]\n",
    "\n",
    "for idx in coffee_blends:\n",
    "    print(f\"{idx ['name']} has the following flavors\")\n",
    "\n",
    "for idx in coffee_blends:\n",
    "    print(idx['flavors'])\n",
    " \n",
    "\n",
    "    "
   ]
  },
  {
   "cell_type": "code",
   "execution_count": 23,
   "metadata": {},
   "outputs": [
    {
     "name": "stdout",
     "output_type": "stream",
     "text": [
      "Item name: mountain bike\n",
      "Item price: 375\n",
      "Purchases list = ['mountain bike']\n",
      "New Total Price: 375\n",
      "Item name: tambourine\n",
      "Item price: 50\n",
      "Purchases list = ['mountain bike', 'tambourine']\n",
      "New Total Price: 425\n",
      "Item name: massage chair\n",
      "Item price: 700\n",
      "Purchases list = ['mountain bike', 'tambourine', 'massage chair']\n",
      "New Total Price: 1125\n"
     ]
    }
   ],
   "source": [
    "# C. Shop till you've dropped 1000 dollars! Add each item to the purchases list until the total price exceeds 1000\n",
    "store = [\n",
    "    {\"item\": \"mountain bike\", \"price\": 375},\n",
    "    {\"item\": \"tambourine\", \"price\": 50},\n",
    "    {\"item\": \"massage chair\", \"price\": 700},\n",
    "    {\"item\": \"worlds best programmer mug\", \"price\":310},\n",
    "    {\"item\": \"new computer\", \"price\": 1500}\n",
    "]\n",
    "\n",
    "purchases = []\n",
    "total_price = 0\n",
    "while total_price < 1000:\n",
    "    for idx in store:\n",
    "        print(f\"Item name: {idx['item']}\")\n",
    "        print(f\"Item price: {idx['price']}\")\n",
    "        purchases.append(idx['item'])\n",
    "        print(f\"Purchases list = {purchases}\")\n",
    "        total_price += idx['price']\n",
    "        print(f\"New Total Price: {total_price}\")\n",
    "\n",
    "        if total_price > 1000:\n",
    "            break\n",
    "\n",
    "\n",
    "            \n",
    "\n",
    "\n",
    "\n"
   ]
  }
 ],
 "metadata": {
  "kernelspec": {
   "display_name": "Python 3.10.5 64-bit (windows store)",
   "language": "python",
   "name": "python3"
  },
  "language_info": {
   "codemirror_mode": {
    "name": "ipython",
    "version": 3
   },
   "file_extension": ".py",
   "mimetype": "text/x-python",
   "name": "python",
   "nbconvert_exporter": "python",
   "pygments_lexer": "ipython3",
   "version": "3.10.5"
  },
  "orig_nbformat": 4,
  "vscode": {
   "interpreter": {
    "hash": "7540359889c7e321c229492797f8275cf90e605fa95f66d3b025b1e90ad7f863"
   }
  }
 },
 "nbformat": 4,
 "nbformat_minor": 2
}
