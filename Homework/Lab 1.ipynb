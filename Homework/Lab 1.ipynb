{
 "cells": [
  {
   "cell_type": "code",
   "execution_count": 27,
   "metadata": {},
   "outputs": [],
   "source": [
    "#create a csv file with headers\n",
    "import csv\n",
    "\n",
    "fields = ['title', 'income_expense', 'amount', 'date']\n",
    "\n",
    "with open('journal entries.csv', 'w') as tracker:\n",
    "   writer = csv.DictWriter(tracker, fieldnames = fields)\n",
    "   writer.writeheader()\n",
    "\n",
    "\n",
    "\n",
    "\n",
    "\n",
    "\n",
    "\n"
   ]
  },
  {
   "cell_type": "code",
   "execution_count": 31,
   "metadata": {},
   "outputs": [],
   "source": [
    "#getting inputs from the user\n",
    "title = input('Enter the description of your journal entry')\n",
    "income_or_expense = input('enter E if your entry is expense and I if your entry is income')\n",
    "if income_or_expense != 'E' and income_or_expense != 'I':\n",
    "    raise ValueError (print('Please only input E or I'))\n",
    "\n",
    "amount = None\n",
    "while amount is None:\n",
    "    try:\n",
    "        amount = float(input('Enter the amount of your expense or income'))\n",
    "    except ValueError:\n",
    "        print('Please enter a number only!')\n",
    "date = input('Enter the date of entry in MM-DD-YYYY format')\n",
    "\n",
    "#store inputs in a dictionary\n",
    "journal_entry = {}\n",
    "journal_entry['title'] = title\n",
    "journal_entry['income_expense'] = income_or_expense\n",
    "#amount must be a number otherwise the app will break\n",
    "journal_entry['amount'] = amount\n",
    "journal_entry['date'] = date\n",
    "\n",
    "\n",
    "#print(journal_entry)\n",
    "\n",
    "#store all dictionaries in a list\n",
    "journals = []\n",
    "journals.append(journal_entry)\n",
    "\n",
    "#print (journals)\n",
    "\n",
    "\n",
    "#append the list to the .csv file\n",
    "import csv\n",
    "\n",
    "with open('journal entries.csv', 'a') as entry_record:\n",
    "    appender = csv.DictWriter(entry_record, fieldnames = fields)\n",
    "    for journal in journals:\n",
    "       appender.writerow(journal)\n",
    "\n",
    "\n",
    "\n"
   ]
  },
  {
   "cell_type": "code",
   "execution_count": 35,
   "metadata": {},
   "outputs": [
    {
     "name": "stdout",
     "output_type": "stream",
     "text": [
      "Total Income is 190.00\n",
      "Total Expense is 150.40\n",
      "Net Balance is 39.60\n"
     ]
    }
   ],
   "source": [
    "#calculate net_balance\n",
    "import csv\n",
    "\n",
    "total_income = 0\n",
    "total_expense = 0\n",
    "\n",
    "with open ('journal entries.csv','r') as data_file:\n",
    "    data = csv.reader(data_file)\n",
    "    for row in data:\n",
    "        if row[1] == 'I' and row[2] != 'amount':\n",
    "            total_income += float(row[2])\n",
    "        elif row[1] == 'E' and row[2] != 'amount':\n",
    "            total_expense += float(row[2])\n",
    "\n",
    "#format_total_expense = '{:.2f}'.format(total_expense)\n",
    "net_balance = total_income - total_expense\n",
    "    \n",
    "\n",
    "print(f'Total Income is {total_income:.2f}')\n",
    "print(f'Total Expense is {total_expense:.2f}')\n",
    "print(f'Net Balance is {net_balance:.2f}')"
   ]
  },
  {
   "cell_type": "code",
   "execution_count": 37,
   "metadata": {},
   "outputs": [
    {
     "name": "stdout",
     "output_type": "stream",
     "text": [
      "           title income_expense amount        date\n",
      "0  cost of limes              E   90.0  07-06-2022\n",
      "1          sales              I  100.0  09-09-2022\n",
      "2  cost of sugar              E   60.4  09-09-2022\n",
      "3          sales              I   90.0  09-09-2022\n"
     ]
    }
   ],
   "source": [
    "#see all the entries in a human readable format\n",
    "\n",
    "import csv\n",
    "\n",
    "with open ('journal entries.csv', 'r') as data_file:\n",
    "   reader = csv.reader(data_file, skipinitialspace=True)\n",
    "   header = next(reader)\n",
    "   a = [dict(zip(header, map(str, row))) for row in reader]\n",
    "\n",
    "#print(a)\n",
    "\n",
    "import pandas as pd\n",
    "\n",
    "readable_format = pd.DataFrame(a)\n",
    "\n",
    "print(readable_format)\n",
    "\n",
    "        "
   ]
  }
 ],
 "metadata": {
  "interpreter": {
   "hash": "31f2aee4e71d21fbe5cf8b01ff0e069b9275f58929596ceb00d14d90e3e16cd6"
  },
  "kernelspec": {
   "display_name": "Python 3.8.9 64-bit",
   "language": "python",
   "name": "python3"
  },
  "language_info": {
   "codemirror_mode": {
    "name": "ipython",
    "version": 3
   },
   "file_extension": ".py",
   "mimetype": "text/x-python",
   "name": "python",
   "nbconvert_exporter": "python",
   "pygments_lexer": "ipython3",
   "version": "3.8.9"
  },
  "orig_nbformat": 4
 },
 "nbformat": 4,
 "nbformat_minor": 2
}
