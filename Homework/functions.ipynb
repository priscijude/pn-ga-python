{
 "cells": [
  {
   "cell_type": "code",
   "execution_count": 7,
   "metadata": {},
   "outputs": [
    {
     "name": "stdout",
     "output_type": "stream",
     "text": [
      "Hello, Priscilla. \n"
     ]
    }
   ],
   "source": [
    "# A. Write a function that accepts one parameter, name\n",
    "#    The function should print the message \"Hello, _____.\" filling in the blank with the name\n",
    "\n",
    "def person(name):\n",
    "    print(f\"Hello, {name}. \")\n",
    "\n",
    "person(\"Priscilla\")\n"
   ]
  },
  {
   "cell_type": "code",
   "execution_count": 20,
   "metadata": {},
   "outputs": [
    {
     "data": {
      "text/plain": [
       "True"
      ]
     },
     "execution_count": 20,
     "metadata": {},
     "output_type": "execute_result"
    }
   ],
   "source": [
    "# B. Write a function that accepts one parameter, a number\n",
    "#    The function should return true or false depending on whether the number is even\n",
    "def odd_even_number(x):\n",
    "    return x % 2 == 1\n",
    "odd_even_number(5)\n"
   ]
  },
  {
   "cell_type": "code",
   "execution_count": 32,
   "metadata": {},
   "outputs": [
    {
     "data": {
      "text/plain": [
       "15"
      ]
     },
     "execution_count": 32,
     "metadata": {},
     "output_type": "execute_result"
    }
   ],
   "source": [
    "# C. Write a function that accepts one parameter, a list\n",
    "#    The function should return the sum total of all numbers in the list, using a loop\n",
    "def sum(numbers):\n",
    "    total = 0\n",
    "    for x in numbers:\n",
    "        total += x\n",
    "    return total\n",
    "#print(sum((8, 2, 3, 0, 7)))\n",
    "numbers = (1,2,3,4,5)\n",
    "sum(numbers)\n",
    "\n"
   ]
  },
  {
   "cell_type": "code",
   "execution_count": 70,
   "metadata": {},
   "outputs": [],
   "source": [
    "# D. Write a function that accepts one parameter, a dictionary\n",
    "#    The function should print the message \"Introducing ______ ______, ________!\"\n",
    "#    Fill in the blanks with the \"first_name\", \"last_name\", and \"title\" properties of the dictionary\n",
    "def Book(**d):\n",
    "    print(d[\"f_name\"]+\" \"+d[\"l_name\"]+\" \"+d[\"title\"])\n",
    "    #print(Book, \"properties of the dictionary\")\n",
    "def main():\n",
    "    Book(f_name = \"Priscilla\", \n",
    "      l_name = \"Nordi\",\n",
    "      title = \"The way of the Lord\")\n",
    "    main()\n",
    "\n",
    "    \n"
   ]
  },
  {
   "cell_type": "code",
   "execution_count": 72,
   "metadata": {},
   "outputs": [
    {
     "name": "stdout",
     "output_type": "stream",
     "text": [
      "dictionaries\n"
     ]
    }
   ],
   "source": [
    "\n",
    "# A. Find the longest string in a given list of strings\n",
    "\n",
    "\n",
    "l = [\"This\", \"is\", \"a\", \"list\", \"of\", \"some\",\n",
    "     \"short\", \"and\", \"some\", \"longer\", \"dictionaries\"]\n",
    "\n",
    "\n",
    "def getLongestString(list_of_strings):\n",
    "    longest_string = \"\"\n",
    "    for string in list_of_strings:\n",
    "        if len(string) > len(longest_string):\n",
    "            longest_string = string\n",
    "    return longest_string\n",
    "\n",
    "\n",
    "print(getLongestString(l))\n"
   ]
  },
  {
   "cell_type": "code",
   "execution_count": 73,
   "metadata": {},
   "outputs": [
    {
     "name": "stdout",
     "output_type": "stream",
     "text": [
      "\"to\" exists in ourlist\n"
     ]
    }
   ],
   "source": [
    "# B. Determine whether a given list contains a given value\n",
    "ourlist = ['list', 'of', 'different', 'strings', 'to', 'find', 'to']\n",
    "\n",
    "if ourlist.count('to') > 0:\n",
    "   print('\"to\" exists in ourlist')\n"
   ]
  },
  {
   "cell_type": "code",
   "execution_count": 86,
   "metadata": {},
   "outputs": [
    {
     "name": "stdout",
     "output_type": "stream",
     "text": [
      "1\n"
     ]
    }
   ],
   "source": [
    "# C. Count how many times a given string contains a given letter\n",
    "def count_letters(word, char):\n",
    "     for c in word:\n",
    "         count = 0\n",
    "        count += (char == c)\n",
    "     return count\n",
    "print(count_letters(\"banana\",\"a\"))\n",
    "\n",
    "\n",
    "\n",
    "\n",
    "\n",
    "     "
   ]
  }
 ],
 "metadata": {
  "kernelspec": {
   "display_name": "Python 3.10.5 64-bit (windows store)",
   "language": "python",
   "name": "python3"
  },
  "language_info": {
   "codemirror_mode": {
    "name": "ipython",
    "version": 3
   },
   "file_extension": ".py",
   "mimetype": "text/x-python",
   "name": "python",
   "nbconvert_exporter": "python",
   "pygments_lexer": "ipython3",
   "version": "3.10.5"
  },
  "orig_nbformat": 4,
  "vscode": {
   "interpreter": {
    "hash": "7540359889c7e321c229492797f8275cf90e605fa95f66d3b025b1e90ad7f863"
   }
  }
 },
 "nbformat": 4,
 "nbformat_minor": 2
}
