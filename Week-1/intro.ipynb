{
 "cells": [
  {
   "cell_type": "code",
   "execution_count": 2,
   "metadata": {},
   "outputs": [
    {
     "name": "stdout",
     "output_type": "stream",
     "text": [
      "hello world\n"
     ]
    }
   ],
   "source": [
    "print('hello world')"
   ]
  },
  {
   "cell_type": "code",
   "execution_count": 9,
   "metadata": {},
   "outputs": [
    {
     "name": "stdout",
     "output_type": "stream",
     "text": [
      "Priscilla Nwaokenye\n",
      "Priscilla Nwaokenye\n",
      "hello world my name is Priscilla Nwaokenye and I am 38 years old\n",
      "35\n",
      "15\n",
      "30\n",
      "3\n",
      "3.3333333333333335\n",
      "2.0\n",
      "2\n",
      "2.15\n",
      "2.35\n"
     ]
    }
   ],
   "source": [
    "#variable\n",
    "first_name = 'Priscilla' #string(collection of character enclosed in a quotations double or single)\n",
    "\n",
    "Age = 38 #integer\n",
    "\n",
    "Age = '38' #str\n",
    "\n",
    "has_yatchs = False #booleans(True or  False)\n",
    "\n",
    "price_of_gas = 2.11 #float\n",
    "\n",
    "last_name = 'Nwaokenye'\n",
    "\n",
    "print(first_name,last_name)\n",
    "\n",
    "print(first_name+' '+last_name) #string concatenation\n",
    "\n",
    "full_name = first_name+' '+last_name\n",
    "\n",
    "#print('hello world, my name is' + full_name + 'and I am '+ str(Age) + 'years old')\n",
    "\n",
    "#String interpolation\n",
    "\n",
    "print(f'hello world my name is {full_name} and I am {Age} years old') #f (format string)\n",
    "\n",
    "#arithmetic operators\n",
    "a = 10\n",
    "b = 25\n",
    "c = 3\n",
    "d = 5\n",
    "\n",
    "print(a+b) \n",
    "print(b-a) \n",
    "print(c*a) \n",
    "print(a//c)\n",
    "print(a/c) #result is always a  float\n",
    "print(a/d)\n",
    "print(a//d)\n",
    "\n",
    "#division / , integer divison //\n",
    "\n",
    "#updating variables\n",
    "\n",
    "current_age = 30\n",
    "\n",
    "current_age = current_age + 1 #updates current\n",
    "\n",
    "current_age += 1 #increment age\n",
    "\n",
    "price_of_gas = 2.15\n",
    "print(price_of_gas)\n",
    "#gas goes up by 20cents\n",
    "\n",
    "price_of_gas += 0.2\n",
    "print(price_of_gas)\n",
    "\n",
    "#update operators\n",
    "\n",
    "# -=\n",
    "# *=\n",
    "# /=\n",
    "\n",
    "\n",
    "\n"
   ]
  }
 ],
 "metadata": {
  "interpreter": {
   "hash": "4cd5083005a614767fe4face7e7647dc14fb7cb8b5ced61202c39edcbe34846b"
  },
  "kernelspec": {
   "display_name": "Python 3.9.12 ('base')",
   "language": "python",
   "name": "python3"
  },
  "language_info": {
   "codemirror_mode": {
    "name": "ipython",
    "version": 3
   },
   "file_extension": ".py",
   "mimetype": "text/x-python",
   "name": "python",
   "nbconvert_exporter": "python",
   "pygments_lexer": "ipython3",
   "version": "3.9.12"
  },
  "orig_nbformat": 4
 },
 "nbformat": 4,
 "nbformat_minor": 2
}
